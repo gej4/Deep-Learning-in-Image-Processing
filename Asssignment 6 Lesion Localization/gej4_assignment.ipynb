{
  "nbformat": 4,
  "nbformat_minor": 0,
  "metadata": {
    "kernelspec": {
      "display_name": "Python 3",
      "language": "python",
      "name": "python3"
    },
    "language_info": {
      "codemirror_mode": {
        "name": "ipython",
        "version": 3
      },
      "file_extension": ".py",
      "mimetype": "text/x-python",
      "name": "python",
      "nbconvert_exporter": "python",
      "pygments_lexer": "ipython3",
      "version": "3.6.10"
    },
    "colab": {
      "name": "assignment.ipynb",
      "provenance": []
    },
    "accelerator": "GPU"
  },
  "cells": [
    {
      "cell_type": "markdown",
      "metadata": {
        "id": "jk5UYHZf063H",
        "colab_type": "text"
      },
      "source": [
        "# Assignment\n",
        "\n",
        "In this assignment we will train a box localization algorithm derived from RetinaNet to perform identification of the prostate gland on MRI. The algorithm will be implemented using a feature pyramid network backbone. Accuracy will be calculated based on median IoU performance against ground-truth masks.\n",
        "\n",
        "This assignment is part of the class **Introduction to Deep Learning for Medical Imaging** at University of California Irvine (CS190); more information can be found: https://github.com/peterchang77/dl_tutor/tree/master/cs190."
      ]
    },
    {
      "cell_type": "markdown",
      "metadata": {
        "id": "7UHm1j74063I",
        "colab_type": "text"
      },
      "source": [
        "### Submission\n",
        "\n",
        "Once complete, the following items must be submitted:\n",
        "\n",
        "* final `*.ipynb` notebook (push to https://github.com/[username]/cs190/cnn/assignment.ipynb)\n",
        "* final trained `*.hdf5` model file\n",
        "* final compiled `*.csv` file with performance statistics"
      ]
    },
    {
      "cell_type": "markdown",
      "metadata": {
        "colab_type": "text",
        "id": "56d3oMiMw8Wm"
      },
      "source": [
        "# Google Colab\n",
        "\n",
        "The following lines of code will configure your Google Colab environment for this assignment."
      ]
    },
    {
      "cell_type": "markdown",
      "metadata": {
        "id": "aZDHbKDo063L",
        "colab_type": "text"
      },
      "source": [
        "### Enable GPU runtime\n",
        "\n",
        "Use the following instructions to switch the default Colab instance into a GPU-enabled runtime:\n",
        "\n",
        "```\n",
        "Runtime > Change runtime type > Hardware accelerator > GPU\n",
        "```"
      ]
    },
    {
      "cell_type": "markdown",
      "metadata": {
        "id": "Vl950NOG063L",
        "colab_type": "text"
      },
      "source": [
        "### Mount Google Drive\n",
        "\n",
        "The Google Colab environment is transient and will reset after any prolonged break in activity. To retain important and/or large files between sessions, use the following lines of code to mount your personal Google drive to this Colab instance:"
      ]
    },
    {
      "cell_type": "code",
      "metadata": {
        "id": "7a7wcobv063M",
        "colab_type": "code",
        "colab": {
          "base_uri": "https://localhost:8080/",
          "height": 123
        },
        "outputId": "6c16a76e-c763-4e85-906e-edc4a51970f7"
      },
      "source": [
        "try:\n",
        "    # --- Mount gdrive to /content/drive/My Drive/\n",
        "    from google.colab import drive\n",
        "    drive.mount('/content/drive')\n",
        "    \n",
        "except: pass"
      ],
      "execution_count": 46,
      "outputs": [
        {
          "output_type": "stream",
          "text": [
            "Go to this URL in a browser: https://accounts.google.com/o/oauth2/auth?client_id=947318989803-6bn6qk8qdgf4n4g3pfee6491hc0brc4i.apps.googleusercontent.com&redirect_uri=urn%3aietf%3awg%3aoauth%3a2.0%3aoob&response_type=code&scope=email%20https%3a%2f%2fwww.googleapis.com%2fauth%2fdocs.test%20https%3a%2f%2fwww.googleapis.com%2fauth%2fdrive%20https%3a%2f%2fwww.googleapis.com%2fauth%2fdrive.photos.readonly%20https%3a%2f%2fwww.googleapis.com%2fauth%2fpeopleapi.readonly\n",
            "\n",
            "Enter your authorization code:\n",
            "··········\n",
            "Mounted at /content/drive\n"
          ],
          "name": "stdout"
        }
      ]
    },
    {
      "cell_type": "markdown",
      "metadata": {
        "id": "mBvv04g_063P",
        "colab_type": "text"
      },
      "source": [
        "Throughout this assignment we will use the following global `MOUNT_ROOT` variable to reference a location to store long-term data. If you are using a local Jupyter server and/or wish to store your data elsewhere, please update this variable now."
      ]
    },
    {
      "cell_type": "code",
      "metadata": {
        "id": "XI2LwAtS063Q",
        "colab_type": "code",
        "colab": {}
      },
      "source": [
        "# --- Set data directory\n",
        "MOUNT_ROOT = '/content/drive/My Drive'"
      ],
      "execution_count": 0,
      "outputs": []
    },
    {
      "cell_type": "markdown",
      "metadata": {
        "id": "iO8dw3bQ063U",
        "colab_type": "text"
      },
      "source": [
        "### Select Tensorflow library version\n",
        "\n",
        "This assignment will use the (new) Tensorflow 2.0 library. Use the following line of code to select this updated version:"
      ]
    },
    {
      "cell_type": "code",
      "metadata": {
        "id": "WDyzabQX063V",
        "colab_type": "code",
        "colab": {
          "base_uri": "https://localhost:8080/",
          "height": 1000
        },
        "outputId": "309d160c-77da-45bb-8d10-389f58a4c3fe"
      },
      "source": [
        "# --- Select Tensorflow 2.0 (only in Google Colab)\n",
        "% tensorflow_version 2.x\n",
        "% pip install tensorflow-gpu==2.1"
      ],
      "execution_count": 1,
      "outputs": [
        {
          "output_type": "stream",
          "text": [
            "Collecting tensorflow-gpu==2.1\n",
            "\u001b[?25l  Downloading https://files.pythonhosted.org/packages/0a/93/c7bca39b23aae45cd2e85ad3871c81eccc63b9c5276e926511e2e5b0879d/tensorflow_gpu-2.1.0-cp36-cp36m-manylinux2010_x86_64.whl (421.8MB)\n",
            "\u001b[K     |████████████████████████████████| 421.8MB 27kB/s \n",
            "\u001b[?25hRequirement already satisfied: opt-einsum>=2.3.2 in /usr/local/lib/python3.6/dist-packages (from tensorflow-gpu==2.1) (3.2.1)\n",
            "Collecting tensorboard<2.2.0,>=2.1.0\n",
            "\u001b[?25l  Downloading https://files.pythonhosted.org/packages/d9/41/bbf49b61370e4f4d245d4c6051dfb6db80cec672605c91b1652ac8cc3d38/tensorboard-2.1.1-py3-none-any.whl (3.8MB)\n",
            "\u001b[K     |████████████████████████████████| 3.9MB 36.1MB/s \n",
            "\u001b[?25hCollecting gast==0.2.2\n",
            "  Downloading https://files.pythonhosted.org/packages/4e/35/11749bf99b2d4e3cceb4d55ca22590b0d7c2c62b9de38ac4a4a7f4687421/gast-0.2.2.tar.gz\n",
            "Requirement already satisfied: absl-py>=0.7.0 in /usr/local/lib/python3.6/dist-packages (from tensorflow-gpu==2.1) (0.9.0)\n",
            "Requirement already satisfied: protobuf>=3.8.0 in /usr/local/lib/python3.6/dist-packages (from tensorflow-gpu==2.1) (3.10.0)\n",
            "Collecting tensorflow-estimator<2.2.0,>=2.1.0rc0\n",
            "\u001b[?25l  Downloading https://files.pythonhosted.org/packages/18/90/b77c328a1304437ab1310b463e533fa7689f4bfc41549593056d812fab8e/tensorflow_estimator-2.1.0-py2.py3-none-any.whl (448kB)\n",
            "\u001b[K     |████████████████████████████████| 450kB 41.1MB/s \n",
            "\u001b[?25hRequirement already satisfied: astor>=0.6.0 in /usr/local/lib/python3.6/dist-packages (from tensorflow-gpu==2.1) (0.8.1)\n",
            "Requirement already satisfied: termcolor>=1.1.0 in /usr/local/lib/python3.6/dist-packages (from tensorflow-gpu==2.1) (1.1.0)\n",
            "Requirement already satisfied: scipy==1.4.1; python_version >= \"3\" in /usr/local/lib/python3.6/dist-packages (from tensorflow-gpu==2.1) (1.4.1)\n",
            "Requirement already satisfied: keras-applications>=1.0.8 in /usr/local/lib/python3.6/dist-packages (from tensorflow-gpu==2.1) (1.0.8)\n",
            "Requirement already satisfied: google-pasta>=0.1.6 in /usr/local/lib/python3.6/dist-packages (from tensorflow-gpu==2.1) (0.2.0)\n",
            "Requirement already satisfied: grpcio>=1.8.6 in /usr/local/lib/python3.6/dist-packages (from tensorflow-gpu==2.1) (1.28.1)\n",
            "Requirement already satisfied: keras-preprocessing>=1.1.0 in /usr/local/lib/python3.6/dist-packages (from tensorflow-gpu==2.1) (1.1.0)\n",
            "Requirement already satisfied: wheel>=0.26; python_version >= \"3\" in /usr/local/lib/python3.6/dist-packages (from tensorflow-gpu==2.1) (0.34.2)\n",
            "Requirement already satisfied: wrapt>=1.11.1 in /usr/local/lib/python3.6/dist-packages (from tensorflow-gpu==2.1) (1.12.1)\n",
            "Requirement already satisfied: six>=1.12.0 in /usr/local/lib/python3.6/dist-packages (from tensorflow-gpu==2.1) (1.12.0)\n",
            "Requirement already satisfied: numpy<2.0,>=1.16.0 in /usr/local/lib/python3.6/dist-packages (from tensorflow-gpu==2.1) (1.18.4)\n",
            "Requirement already satisfied: markdown>=2.6.8 in /usr/local/lib/python3.6/dist-packages (from tensorboard<2.2.0,>=2.1.0->tensorflow-gpu==2.1) (3.2.1)\n",
            "Requirement already satisfied: werkzeug>=0.11.15 in /usr/local/lib/python3.6/dist-packages (from tensorboard<2.2.0,>=2.1.0->tensorflow-gpu==2.1) (1.0.1)\n",
            "Requirement already satisfied: google-auth-oauthlib<0.5,>=0.4.1 in /usr/local/lib/python3.6/dist-packages (from tensorboard<2.2.0,>=2.1.0->tensorflow-gpu==2.1) (0.4.1)\n",
            "Requirement already satisfied: google-auth<2,>=1.6.3 in /usr/local/lib/python3.6/dist-packages (from tensorboard<2.2.0,>=2.1.0->tensorflow-gpu==2.1) (1.7.2)\n",
            "Requirement already satisfied: requests<3,>=2.21.0 in /usr/local/lib/python3.6/dist-packages (from tensorboard<2.2.0,>=2.1.0->tensorflow-gpu==2.1) (2.23.0)\n",
            "Requirement already satisfied: setuptools>=41.0.0 in /usr/local/lib/python3.6/dist-packages (from tensorboard<2.2.0,>=2.1.0->tensorflow-gpu==2.1) (46.3.0)\n",
            "Requirement already satisfied: h5py in /usr/local/lib/python3.6/dist-packages (from keras-applications>=1.0.8->tensorflow-gpu==2.1) (2.10.0)\n",
            "Requirement already satisfied: requests-oauthlib>=0.7.0 in /usr/local/lib/python3.6/dist-packages (from google-auth-oauthlib<0.5,>=0.4.1->tensorboard<2.2.0,>=2.1.0->tensorflow-gpu==2.1) (1.3.0)\n",
            "Requirement already satisfied: pyasn1-modules>=0.2.1 in /usr/local/lib/python3.6/dist-packages (from google-auth<2,>=1.6.3->tensorboard<2.2.0,>=2.1.0->tensorflow-gpu==2.1) (0.2.8)\n",
            "Requirement already satisfied: cachetools<3.2,>=2.0.0 in /usr/local/lib/python3.6/dist-packages (from google-auth<2,>=1.6.3->tensorboard<2.2.0,>=2.1.0->tensorflow-gpu==2.1) (3.1.1)\n",
            "Requirement already satisfied: rsa<4.1,>=3.1.4 in /usr/local/lib/python3.6/dist-packages (from google-auth<2,>=1.6.3->tensorboard<2.2.0,>=2.1.0->tensorflow-gpu==2.1) (4.0)\n",
            "Requirement already satisfied: chardet<4,>=3.0.2 in /usr/local/lib/python3.6/dist-packages (from requests<3,>=2.21.0->tensorboard<2.2.0,>=2.1.0->tensorflow-gpu==2.1) (3.0.4)\n",
            "Requirement already satisfied: certifi>=2017.4.17 in /usr/local/lib/python3.6/dist-packages (from requests<3,>=2.21.0->tensorboard<2.2.0,>=2.1.0->tensorflow-gpu==2.1) (2020.4.5.1)\n",
            "Requirement already satisfied: urllib3!=1.25.0,!=1.25.1,<1.26,>=1.21.1 in /usr/local/lib/python3.6/dist-packages (from requests<3,>=2.21.0->tensorboard<2.2.0,>=2.1.0->tensorflow-gpu==2.1) (1.24.3)\n",
            "Requirement already satisfied: idna<3,>=2.5 in /usr/local/lib/python3.6/dist-packages (from requests<3,>=2.21.0->tensorboard<2.2.0,>=2.1.0->tensorflow-gpu==2.1) (2.9)\n",
            "Requirement already satisfied: oauthlib>=3.0.0 in /usr/local/lib/python3.6/dist-packages (from requests-oauthlib>=0.7.0->google-auth-oauthlib<0.5,>=0.4.1->tensorboard<2.2.0,>=2.1.0->tensorflow-gpu==2.1) (3.1.0)\n",
            "Requirement already satisfied: pyasn1<0.5.0,>=0.4.6 in /usr/local/lib/python3.6/dist-packages (from pyasn1-modules>=0.2.1->google-auth<2,>=1.6.3->tensorboard<2.2.0,>=2.1.0->tensorflow-gpu==2.1) (0.4.8)\n",
            "Building wheels for collected packages: gast\n",
            "  Building wheel for gast (setup.py) ... \u001b[?25l\u001b[?25hdone\n",
            "  Created wheel for gast: filename=gast-0.2.2-cp36-none-any.whl size=7540 sha256=576f6a65ab4e1b2c63f133b9f31ffcb35938b092208a45837a6963dbf220ac77\n",
            "  Stored in directory: /root/.cache/pip/wheels/5c/2e/7e/a1d4d4fcebe6c381f378ce7743a3ced3699feb89bcfbdadadd\n",
            "Successfully built gast\n",
            "\u001b[31mERROR: tensorflow 2.2.0 has requirement gast==0.3.3, but you'll have gast 0.2.2 which is incompatible.\u001b[0m\n",
            "\u001b[31mERROR: tensorflow 2.2.0 has requirement tensorboard<2.3.0,>=2.2.0, but you'll have tensorboard 2.1.1 which is incompatible.\u001b[0m\n",
            "\u001b[31mERROR: tensorflow 2.2.0 has requirement tensorflow-estimator<2.3.0,>=2.2.0, but you'll have tensorflow-estimator 2.1.0 which is incompatible.\u001b[0m\n",
            "\u001b[31mERROR: tensorflow-probability 0.10.0rc0 has requirement gast>=0.3.2, but you'll have gast 0.2.2 which is incompatible.\u001b[0m\n",
            "Installing collected packages: tensorboard, gast, tensorflow-estimator, tensorflow-gpu\n",
            "  Found existing installation: tensorboard 2.2.1\n",
            "    Uninstalling tensorboard-2.2.1:\n",
            "      Successfully uninstalled tensorboard-2.2.1\n",
            "  Found existing installation: gast 0.3.3\n",
            "    Uninstalling gast-0.3.3:\n",
            "      Successfully uninstalled gast-0.3.3\n",
            "  Found existing installation: tensorflow-estimator 2.2.0\n",
            "    Uninstalling tensorflow-estimator-2.2.0:\n",
            "      Successfully uninstalled tensorflow-estimator-2.2.0\n",
            "Successfully installed gast-0.2.2 tensorboard-2.1.1 tensorflow-estimator-2.1.0 tensorflow-gpu-2.1.0\n"
          ],
          "name": "stdout"
        }
      ]
    },
    {
      "cell_type": "markdown",
      "metadata": {
        "id": "DeRb2rHw063Y",
        "colab_type": "text"
      },
      "source": [
        "# Environment"
      ]
    },
    {
      "cell_type": "markdown",
      "metadata": {
        "id": "iw4oXEiZ063Y",
        "colab_type": "text"
      },
      "source": [
        "### Jarvis library\n",
        "\n",
        "In this notebook we will Jarvis, a custom Python package to facilitate data science and deep learning for healthcare. Among other things, this library will be used for low-level data management, stratification and visualization of high-dimensional medical data."
      ]
    },
    {
      "cell_type": "code",
      "metadata": {
        "id": "496FvTFZ063Z",
        "colab_type": "code",
        "colab": {
          "base_uri": "https://localhost:8080/",
          "height": 568
        },
        "outputId": "5fa6847c-cf0a-4e32-88b5-fdc317f0612f"
      },
      "source": [
        "# --- Install jarvis (only in Google Colab or local runtime)\n",
        "% pip install jarvis-md"
      ],
      "execution_count": 2,
      "outputs": [
        {
          "output_type": "stream",
          "text": [
            "Collecting jarvis-md\n",
            "\u001b[?25l  Downloading https://files.pythonhosted.org/packages/2c/b7/28006fe159ff4ab5ab02ac0f08cc0171ce308a301aabe1eaa8791bea7d23/jarvis_md-0.0.1a7-py3-none-any.whl (68kB)\n",
            "\r\u001b[K     |████▉                           | 10kB 12.9MB/s eta 0:00:01\r\u001b[K     |█████████▋                      | 20kB 3.4MB/s eta 0:00:01\r\u001b[K     |██████████████▍                 | 30kB 4.3MB/s eta 0:00:01\r\u001b[K     |███████████████████▏            | 40kB 4.6MB/s eta 0:00:01\r\u001b[K     |████████████████████████        | 51kB 3.7MB/s eta 0:00:01\r\u001b[K     |████████████████████████████▉   | 61kB 4.2MB/s eta 0:00:01\r\u001b[K     |████████████████████████████████| 71kB 3.2MB/s \n",
            "\u001b[?25hRequirement already satisfied: matplotlib in /usr/local/lib/python3.6/dist-packages (from jarvis-md) (3.2.1)\n",
            "Requirement already satisfied: scipy in /usr/local/lib/python3.6/dist-packages (from jarvis-md) (1.4.1)\n",
            "Requirement already satisfied: numpy in /usr/local/lib/python3.6/dist-packages (from jarvis-md) (1.18.4)\n",
            "Requirement already satisfied: requests in /usr/local/lib/python3.6/dist-packages (from jarvis-md) (2.23.0)\n",
            "Requirement already satisfied: h5py in /usr/local/lib/python3.6/dist-packages (from jarvis-md) (2.10.0)\n",
            "Requirement already satisfied: pandas in /usr/local/lib/python3.6/dist-packages (from jarvis-md) (1.0.3)\n",
            "Collecting pyyaml>=5.2\n",
            "\u001b[?25l  Downloading https://files.pythonhosted.org/packages/64/c2/b80047c7ac2478f9501676c988a5411ed5572f35d1beff9cae07d321512c/PyYAML-5.3.1.tar.gz (269kB)\n",
            "\u001b[K     |████████████████████████████████| 276kB 13.6MB/s \n",
            "\u001b[?25hRequirement already satisfied: cycler>=0.10 in /usr/local/lib/python3.6/dist-packages (from matplotlib->jarvis-md) (0.10.0)\n",
            "Requirement already satisfied: pyparsing!=2.0.4,!=2.1.2,!=2.1.6,>=2.0.1 in /usr/local/lib/python3.6/dist-packages (from matplotlib->jarvis-md) (2.4.7)\n",
            "Requirement already satisfied: kiwisolver>=1.0.1 in /usr/local/lib/python3.6/dist-packages (from matplotlib->jarvis-md) (1.2.0)\n",
            "Requirement already satisfied: python-dateutil>=2.1 in /usr/local/lib/python3.6/dist-packages (from matplotlib->jarvis-md) (2.8.1)\n",
            "Requirement already satisfied: chardet<4,>=3.0.2 in /usr/local/lib/python3.6/dist-packages (from requests->jarvis-md) (3.0.4)\n",
            "Requirement already satisfied: urllib3!=1.25.0,!=1.25.1,<1.26,>=1.21.1 in /usr/local/lib/python3.6/dist-packages (from requests->jarvis-md) (1.24.3)\n",
            "Requirement already satisfied: certifi>=2017.4.17 in /usr/local/lib/python3.6/dist-packages (from requests->jarvis-md) (2020.4.5.1)\n",
            "Requirement already satisfied: idna<3,>=2.5 in /usr/local/lib/python3.6/dist-packages (from requests->jarvis-md) (2.9)\n",
            "Requirement already satisfied: six in /usr/local/lib/python3.6/dist-packages (from h5py->jarvis-md) (1.12.0)\n",
            "Requirement already satisfied: pytz>=2017.2 in /usr/local/lib/python3.6/dist-packages (from pandas->jarvis-md) (2018.9)\n",
            "Building wheels for collected packages: pyyaml\n",
            "  Building wheel for pyyaml (setup.py) ... \u001b[?25l\u001b[?25hdone\n",
            "  Created wheel for pyyaml: filename=PyYAML-5.3.1-cp36-cp36m-linux_x86_64.whl size=44621 sha256=c9eddd6a48d5515db37d5eccb8f6f87731f6fc241bbf46ca4b7b3b47982490c6\n",
            "  Stored in directory: /root/.cache/pip/wheels/a7/c1/ea/cf5bd31012e735dc1dfea3131a2d5eae7978b251083d6247bd\n",
            "Successfully built pyyaml\n",
            "Installing collected packages: pyyaml, jarvis-md\n",
            "  Found existing installation: PyYAML 3.13\n",
            "    Uninstalling PyYAML-3.13:\n",
            "      Successfully uninstalled PyYAML-3.13\n",
            "Successfully installed jarvis-md-0.0.1a7 pyyaml-5.3.1\n"
          ],
          "name": "stdout"
        }
      ]
    },
    {
      "cell_type": "markdown",
      "metadata": {
        "id": "-iW6qWdr063b",
        "colab_type": "text"
      },
      "source": [
        "### Imports\n",
        "\n",
        "Use the following lines to import any additional needed libraries:"
      ]
    },
    {
      "cell_type": "code",
      "metadata": {
        "id": "Xp6b9kj9063c",
        "colab_type": "code",
        "colab": {}
      },
      "source": [
        "import numpy as np, pandas as pd\n",
        "from tensorflow import losses, optimizers\n",
        "from tensorflow.keras import Input, Model, models, layers, metrics\n",
        "from jarvis.train import datasets, custom\n",
        "from jarvis.train.box import BoundingBox"
      ],
      "execution_count": 0,
      "outputs": []
    },
    {
      "cell_type": "markdown",
      "metadata": {
        "id": "peVzb02b063f",
        "colab_type": "text"
      },
      "source": [
        "# Data\n",
        "\n",
        "As in the tutorial, data for this assignment will consist of prostate MRI exams. In prior work, an algorithm was created to separate out different MRI sequences. In this current assignment, only T2-weighted images (isolated using the prior algorithm) will be used for segmentation. In prostate imaging, the T2-weighted sequence captures the greatest amount of anatomic detail and is thus ideal for delineation of prostate gland structures.\n",
        "\n",
        "The following line of code will download the dataset (if not already present) and prepare the required generators:"
      ]
    },
    {
      "cell_type": "code",
      "metadata": {
        "id": "URAK-IK4063g",
        "colab_type": "code",
        "colab": {
          "base_uri": "https://localhost:8080/",
          "height": 34
        },
        "outputId": "1afa82c2-6f9e-4440-ceec-25e43c2d084b"
      },
      "source": [
        "# --- Download dataset\n",
        "datasets.download(name='mr/prostatex-seg')\n",
        "\n",
        "# --- Prepare generators\n",
        "configs = {'batch': {'size': 12}}\n",
        "gen_train, gen_valid, client = datasets.prepare(name='mr/prostatex-seg', configs=configs, keyword='box')"
      ],
      "execution_count": 4,
      "outputs": [
        {
          "output_type": "stream",
          "text": [
            "[ 2020-05-18 17:31:28 ] [====================] 100.000% : Extracting archive (0001381 / 0001381) "
          ],
          "name": "stdout"
        }
      ]
    },
    {
      "cell_type": "markdown",
      "metadata": {
        "id": "8A1ZlcIr063k",
        "colab_type": "text"
      },
      "source": [
        "# Training\n",
        "\n",
        "In this assignment we will train a box localization network for prostate segmentation."
      ]
    },
    {
      "cell_type": "markdown",
      "metadata": {
        "id": "CTudoFfY063l",
        "colab_type": "text"
      },
      "source": [
        "### Define box parameters\n",
        "\n",
        "Use the following cell block to define your `BoundingBox` object as discussed in the tutorial. Feel free to optimize hyperparameter choices for grid size, anchor shapes, anchor aspect ratios, and anchor scales: "
      ]
    },
    {
      "cell_type": "code",
      "metadata": {
        "id": "DEPEuuB4063l",
        "colab_type": "code",
        "colab": {}
      },
      "source": [
        "bb = BoundingBox(\n",
        "    image_shape=(256, 256),\n",
        "    classes=1,\n",
        "    c=[3, 4, 5],\n",
        "    anchor_shapes=[16, 32, 64],\n",
        "    anchor_scales=[0, 1, 2],\n",
        "    anchor_ratios=[0.5, 1, 2],\n",
        "    iou_upper=0.5,\n",
        "    iou_lower=0.2)"
      ],
      "execution_count": 0,
      "outputs": []
    },
    {
      "cell_type": "markdown",
      "metadata": {
        "id": "0AE-lmwy063o",
        "colab_type": "text"
      },
      "source": [
        "### Define inputs\n",
        "\n",
        "Use the following cell block to define the nested generators needed to convert raw masks into bounding box ground-truth predictions:"
      ]
    },
    {
      "cell_type": "code",
      "metadata": {
        "id": "Nec2hnrI063o",
        "colab_type": "code",
        "colab": {}
      },
      "source": [
        "inputs = client.get_inputs(Input)\n",
        "inputs = bb.get_inputs(inputs, Input)\n",
        "\n",
        "# --- Prepare generators\n",
        "gen_train, gen_valid = client.create_generators()\n",
        "gen_train, gen_valid = bb.create_generators(gen_train, gen_valid, msk='prostate')"
      ],
      "execution_count": 0,
      "outputs": []
    },
    {
      "cell_type": "markdown",
      "metadata": {
        "id": "SY6WWfhr063q",
        "colab_type": "text"
      },
      "source": [
        "### Define the model\n",
        "\n",
        "Use the following cell block to define your feature pyramid network backbone and RetinaNet classification / regression networks:"
      ]
    },
    {
      "cell_type": "code",
      "metadata": {
        "id": "KpjPM72k063r",
        "colab_type": "code",
        "colab": {}
      },
      "source": [
        "# --- Define kwargs dictionary\n",
        "kwargs = {\n",
        "    'kernel_size': (1, 3, 3),\n",
        "    'padding': 'same'}\n",
        "\n",
        "# --- Define lambda functions\n",
        "conv = lambda x, filters, strides : layers.Conv3D(filters=filters, strides=strides, **kwargs)(x)\n",
        "norm = lambda x : layers.BatchNormalization()(x)\n",
        "relu = lambda x : layers.LeakyReLU()(x)\n",
        "\n",
        "# --- Define stride-1, stride-2 blocks\n",
        "conv1 = lambda filters, x : relu(norm(conv(x, filters, strides=1)))\n",
        "conv2 = lambda filters, x : relu(norm(conv(x, filters, strides=(1, 2, 2))))\n",
        "\n",
        "# --- Define zoom\n",
        "zoom = lambda x : layers.UpSampling3D(\n",
        "    size=(1, 2, 2))(x)\n",
        "\n",
        "# --- Define 1 x 1 x 1 projection\n",
        "proj = lambda filters, x : layers.Conv3D(\n",
        "    filters=filters,\n",
        "    strides=1,\n",
        "    kernel_size=(1, 1, 1),\n",
        "    padding='same',\n",
        "    kernel_initializer='he_normal')(x)\n"
      ],
      "execution_count": 0,
      "outputs": []
    },
    {
      "cell_type": "code",
      "metadata": {
        "id": "X2C-sj7d2Way",
        "colab_type": "code",
        "colab": {}
      },
      "source": [
        "# --- Define contracting layers\n",
        "l1 = conv1(8, inputs['dat'])\n",
        "l2 = conv1(16, conv2(16, l1))\n",
        "l3 = conv1(24, conv2(24, l2))\n",
        "l4 = conv1(32, conv2(32, l3))\n",
        "l5 = conv1(48, conv2(48, l4))\n",
        "l6 = conv1(64, conv2(64, l5))\n",
        "\n",
        "# --- Define expanding layers\n",
        "l7 = proj(64, l6)\n",
        "l8 = conv1(64, zoom(l7) + proj(64, l5))\n",
        "l9 = conv1(64, zoom(l8) + proj(64, l4))\n",
        "\n",
        "# --- Determine filter sizes\n",
        "logits = {}\n",
        "K = 1\n",
        "A = 9\n",
        "\n",
        "# --- C3\n",
        "c3_cls = conv1(64, conv1(64, l9))\n",
        "c3_reg = conv1(64, conv1(64, l9))\n",
        "logits['cls-c3'] = layers.Conv3D(filters=(A * K), name='cls-c3', **kwargs)(c3_cls)\n",
        "logits['reg-c3'] = layers.Conv3D(filters=(A * 4), name='reg-c3', **kwargs)(c3_reg)\n",
        "\n",
        "# --- C4\n",
        "c4_cls = conv1(64, conv1(64, l8))\n",
        "c4_reg = conv1(64, conv1(64, l8))\n",
        "logits['cls-c4'] = layers.Conv3D(filters=(A * K), name='cls-c4', **kwargs)(c4_cls)\n",
        "logits['reg-c4'] = layers.Conv3D(filters=(A * 4), name='reg-c4', **kwargs)(c4_reg)\n",
        "\n",
        "# --- C5\n",
        "c5_cls = conv1(64, conv1(64, l7))\n",
        "c5_reg = conv1(64, conv1(64, l7))\n",
        "logits['cls-c5'] = layers.Conv3D(filters=(A * K), name='cls-c5', **kwargs)(c5_cls)\n",
        "logits['reg-c5'] = layers.Conv3D(filters=(A * 4), name='reg-c5', **kwargs)(c5_reg)\n"
      ],
      "execution_count": 0,
      "outputs": []
    },
    {
      "cell_type": "code",
      "metadata": {
        "id": "dy_hVK-N2gla",
        "colab_type": "code",
        "colab": {}
      },
      "source": [
        "# --- Create model\n",
        "model = Model(inputs=inputs, outputs=logits)"
      ],
      "execution_count": 0,
      "outputs": []
    },
    {
      "cell_type": "markdown",
      "metadata": {
        "id": "M4tg-PZC063u",
        "colab_type": "text"
      },
      "source": [
        "### Compile the model\n",
        "\n",
        "Use the following cell block to compile your model. Recall the following requirements as described in the tutorial:\n",
        "\n",
        "* use of a focal sigmoid (binary) cross-entropy loss function for regression\n",
        "* use of a Huber loss function for classification\n",
        "* use of masked loss functions to ensure only relevant examples are used for training\n",
        "* use of appropriate metrics to track algorithm training"
      ]
    },
    {
      "cell_type": "code",
      "metadata": {
        "id": "E5pijuEj063u",
        "colab_type": "code",
        "colab": {}
      },
      "source": [
        "# --- Compile the model\n",
        "model.compile(\n",
        "    optimizer=optimizers.Adam(learning_rate=2e-4),\n",
        "    loss={\n",
        "        'cls-c3': custom.focal_sigmoid_ce(inputs['cls-c3-msk']),\n",
        "        'cls-c4': custom.focal_sigmoid_ce(inputs['cls-c4-msk']),\n",
        "        'cls-c5': custom.focal_sigmoid_ce(inputs['cls-c5-msk']),\n",
        "        'reg-c3': custom.sl1(inputs['reg-c3-msk']),\n",
        "        'reg-c4': custom.sl1(inputs['reg-c4-msk']),\n",
        "        'reg-c5': custom.sl1(inputs['reg-c5-msk'])\n",
        "        },\n",
        "    metrics={\n",
        "        'cls-c3': [custom.sigmoid_ce_sens(), custom.sigmoid_ce_ppv()],\n",
        "        'cls-c4': [custom.sigmoid_ce_sens(), custom.sigmoid_ce_ppv()],\n",
        "        'cls-c5': [custom.sigmoid_ce_sens(), custom.sigmoid_ce_ppv()]},\n",
        "    experimental_run_tf_function=False)"
      ],
      "execution_count": 0,
      "outputs": []
    },
    {
      "cell_type": "markdown",
      "metadata": {
        "id": "y4Z1tx0E063x",
        "colab_type": "text"
      },
      "source": [
        "### Train the model\n",
        "\n",
        "Use the following cell block to train your model. **Note**: it is recommended to train for at least 10,000 iterations for convergence."
      ]
    },
    {
      "cell_type": "code",
      "metadata": {
        "id": "hSg7rgPt063x",
        "colab_type": "code",
        "colab": {
          "base_uri": "https://localhost:8080/",
          "height": 34
        },
        "outputId": "5ecfbf21-d874-4c71-d169-238a0467734b"
      },
      "source": [
        "client.load_data_in_memory()"
      ],
      "execution_count": 31,
      "outputs": [
        {
          "output_type": "stream",
          "text": [
            "\r[ 2020-05-18 17:57:21 ] [>...................] 0.292% : Iterating | 000001      \r[ 2020-05-18 17:57:21 ] [>...................] 0.585% : Iterating | 000002      \r[ 2020-05-18 17:57:21 ] [>...................] 0.877% : Iterating | 000003      \r[ 2020-05-18 17:57:21 ] [>...................] 1.170% : Iterating | 000004      \r[ 2020-05-18 17:57:21 ] [>...................] 1.462% : Iterating | 000005      \r[ 2020-05-18 17:57:21 ] [>...................] 1.754% : Iterating | 000006      \r[ 2020-05-18 17:57:21 ] [>...................] 2.047% : Iterating | 000007      \r[ 2020-05-18 17:57:21 ] [>...................] 2.339% : Iterating | 000008      \r[ 2020-05-18 17:57:21 ] [>...................] 2.632% : Iterating | 000009      \r[ 2020-05-18 17:57:21 ] [>...................] 2.924% : Iterating | 000010      \r[ 2020-05-18 17:57:21 ] [>...................] 3.216% : Iterating | 000011      \r[ 2020-05-18 17:57:21 ] [>...................] 3.509% : Iterating | 000012      \r[ 2020-05-18 17:57:21 ] [>...................] 3.801% : Iterating | 000013      \r[ 2020-05-18 17:57:21 ] [>...................] 4.094% : Iterating | 000014      \r[ 2020-05-18 17:57:21 ] [>...................] 4.386% : Iterating | 000015      \r[ 2020-05-18 17:57:21 ] [>...................] 4.678% : Iterating | 000016      \r[ 2020-05-18 17:57:21 ] [>...................] 4.971% : Iterating | 000017      \r[ 2020-05-18 17:57:21 ] [=>..................] 5.263% : Iterating | 000018      \r[ 2020-05-18 17:57:21 ] [=>..................] 5.556% : Iterating | 000019      \r[ 2020-05-18 17:57:21 ] [=>..................] 5.848% : Iterating | 000020      \r[ 2020-05-18 17:57:21 ] [=>..................] 6.140% : Iterating | 000021      \r[ 2020-05-18 17:57:21 ] [=>..................] 6.433% : Iterating | 000022      \r[ 2020-05-18 17:57:21 ] [=>..................] 6.725% : Iterating | 000023      \r[ 2020-05-18 17:57:21 ] [=>..................] 7.018% : Iterating | 000024      \r[ 2020-05-18 17:57:21 ] [=>..................] 7.310% : Iterating | 000025      \r[ 2020-05-18 17:57:21 ] [=>..................] 7.602% : Iterating | 000026      \r[ 2020-05-18 17:57:21 ] [=>..................] 7.895% : Iterating | 000027      \r[ 2020-05-18 17:57:21 ] [=>..................] 8.187% : Iterating | 000028      \r[ 2020-05-18 17:57:21 ] [=>..................] 8.480% : Iterating | 000029      \r[ 2020-05-18 17:57:21 ] [=>..................] 8.772% : Iterating | 000030      \r[ 2020-05-18 17:57:21 ] [=>..................] 9.064% : Iterating | 000031      \r[ 2020-05-18 17:57:21 ] [=>..................] 9.357% : Iterating | 000032      \r[ 2020-05-18 17:57:21 ] [=>..................] 9.649% : Iterating | 000033      \r[ 2020-05-18 17:57:21 ] [=>..................] 9.942% : Iterating | 000034      \r[ 2020-05-18 17:57:21 ] [==>.................] 10.234% : Iterating | 000035     \r[ 2020-05-18 17:57:21 ] [==>.................] 10.526% : Iterating | 000036     \r[ 2020-05-18 17:57:21 ] [==>.................] 10.819% : Iterating | 000037     \r[ 2020-05-18 17:57:21 ] [==>.................] 11.111% : Iterating | 000038     \r[ 2020-05-18 17:57:21 ] [==>.................] 11.404% : Iterating | 000039     \r[ 2020-05-18 17:57:21 ] [==>.................] 11.696% : Iterating | 000040     \r[ 2020-05-18 17:57:21 ] [==>.................] 11.988% : Iterating | 000041     \r[ 2020-05-18 17:57:21 ] [==>.................] 12.281% : Iterating | 000042     \r[ 2020-05-18 17:57:21 ] [==>.................] 12.573% : Iterating | 000043     \r[ 2020-05-18 17:57:21 ] [==>.................] 12.865% : Iterating | 000044     \r[ 2020-05-18 17:57:21 ] [==>.................] 13.158% : Iterating | 000045     \r[ 2020-05-18 17:57:21 ] [==>.................] 13.450% : Iterating | 000046     \r[ 2020-05-18 17:57:21 ] [==>.................] 13.743% : Iterating | 000047     \r[ 2020-05-18 17:57:21 ] [==>.................] 14.035% : Iterating | 000048     \r[ 2020-05-18 17:57:21 ] [==>.................] 14.327% : Iterating | 000049     \r[ 2020-05-18 17:57:21 ] [==>.................] 14.620% : Iterating | 000050     \r[ 2020-05-18 17:57:21 ] [==>.................] 14.912% : Iterating | 000051     \r[ 2020-05-18 17:57:21 ] [===>................] 15.205% : Iterating | 000052     \r[ 2020-05-18 17:57:21 ] [===>................] 15.497% : Iterating | 000053     \r[ 2020-05-18 17:57:21 ] [===>................] 15.789% : Iterating | 000054     \r[ 2020-05-18 17:57:21 ] [===>................] 16.082% : Iterating | 000055     \r[ 2020-05-18 17:57:21 ] [===>................] 16.374% : Iterating | 000056     \r[ 2020-05-18 17:57:21 ] [===>................] 16.667% : Iterating | 000057     \r[ 2020-05-18 17:57:21 ] [===>................] 16.959% : Iterating | 000058     \r[ 2020-05-18 17:57:21 ] [===>................] 17.251% : Iterating | 000059     \r[ 2020-05-18 17:57:21 ] [===>................] 17.544% : Iterating | 000060     \r[ 2020-05-18 17:57:21 ] [===>................] 17.836% : Iterating | 000061     \r[ 2020-05-18 17:57:21 ] [===>................] 18.129% : Iterating | 000062     \r[ 2020-05-18 17:57:21 ] [===>................] 18.421% : Iterating | 000063     \r[ 2020-05-18 17:57:21 ] [===>................] 18.713% : Iterating | 000064     \r[ 2020-05-18 17:57:21 ] [===>................] 19.006% : Iterating | 000065     \r[ 2020-05-18 17:57:21 ] [===>................] 19.298% : Iterating | 000066     \r[ 2020-05-18 17:57:21 ] [===>................] 19.591% : Iterating | 000067     \r[ 2020-05-18 17:57:21 ] [===>................] 19.883% : Iterating | 000068     \r[ 2020-05-18 17:57:21 ] [====>...............] 20.175% : Iterating | 000069     \r[ 2020-05-18 17:57:21 ] [====>...............] 20.468% : Iterating | 000070     \r[ 2020-05-18 17:57:21 ] [====>...............] 20.760% : Iterating | 000071     \r[ 2020-05-18 17:57:21 ] [====>...............] 21.053% : Iterating | 000072     \r[ 2020-05-18 17:57:21 ] [====>...............] 21.345% : Iterating | 000073     \r[ 2020-05-18 17:57:21 ] [====>...............] 21.637% : Iterating | 000074     \r[ 2020-05-18 17:57:21 ] [====>...............] 21.930% : Iterating | 000075     \r[ 2020-05-18 17:57:21 ] [====>...............] 22.222% : Iterating | 000076     \r[ 2020-05-18 17:57:21 ] [====>...............] 22.515% : Iterating | 000077     \r[ 2020-05-18 17:57:21 ] [====>...............] 22.807% : Iterating | 000078     \r[ 2020-05-18 17:57:21 ] [====>...............] 23.099% : Iterating | 000079     \r[ 2020-05-18 17:57:21 ] [====>...............] 23.392% : Iterating | 000080     \r[ 2020-05-18 17:57:21 ] [====>...............] 23.684% : Iterating | 000081     \r[ 2020-05-18 17:57:21 ] [====>...............] 23.977% : Iterating | 000082     \r[ 2020-05-18 17:57:21 ] [====>...............] 24.269% : Iterating | 000083     \r[ 2020-05-18 17:57:21 ] [====>...............] 24.561% : Iterating | 000084     \r[ 2020-05-18 17:57:21 ] [====>...............] 24.854% : Iterating | 000085     \r[ 2020-05-18 17:57:21 ] [=====>..............] 25.146% : Iterating | 000086     \r[ 2020-05-18 17:57:21 ] [=====>..............] 25.439% : Iterating | 000087     \r[ 2020-05-18 17:57:21 ] [=====>..............] 25.731% : Iterating | 000088     \r[ 2020-05-18 17:57:21 ] [=====>..............] 26.023% : Iterating | 000089     \r[ 2020-05-18 17:57:21 ] [=====>..............] 26.316% : Iterating | 000090     \r[ 2020-05-18 17:57:21 ] [=====>..............] 26.608% : Iterating | 000091     \r[ 2020-05-18 17:57:21 ] [=====>..............] 26.901% : Iterating | 000092     \r[ 2020-05-18 17:57:21 ] [=====>..............] 27.193% : Iterating | 000093     \r[ 2020-05-18 17:57:21 ] [=====>..............] 27.485% : Iterating | 000094     \r[ 2020-05-18 17:57:21 ] [=====>..............] 27.778% : Iterating | 000095     \r[ 2020-05-18 17:57:21 ] [=====>..............] 28.070% : Iterating | 000096     \r[ 2020-05-18 17:57:21 ] [=====>..............] 28.363% : Iterating | 000097     \r[ 2020-05-18 17:57:21 ] [=====>..............] 28.655% : Iterating | 000098     \r[ 2020-05-18 17:57:21 ] [=====>..............] 28.947% : Iterating | 000099     \r[ 2020-05-18 17:57:21 ] [=====>..............] 29.240% : Iterating | 000100     \r[ 2020-05-18 17:57:21 ] [=====>..............] 29.532% : Iterating | 000101     \r[ 2020-05-18 17:57:21 ] [=====>..............] 29.825% : Iterating | 000102     \r[ 2020-05-18 17:57:21 ] [======>.............] 30.117% : Iterating | 000103     \r[ 2020-05-18 17:57:21 ] [======>.............] 30.409% : Iterating | 000104     \r[ 2020-05-18 17:57:21 ] [======>.............] 30.702% : Iterating | 000105     \r[ 2020-05-18 17:57:21 ] [======>.............] 30.994% : Iterating | 000106     \r[ 2020-05-18 17:57:21 ] [======>.............] 31.287% : Iterating | 000107     \r[ 2020-05-18 17:57:21 ] [======>.............] 31.579% : Iterating | 000108     \r[ 2020-05-18 17:57:21 ] [======>.............] 31.871% : Iterating | 000109     \r[ 2020-05-18 17:57:21 ] [======>.............] 32.164% : Iterating | 000110     \r[ 2020-05-18 17:57:21 ] [======>.............] 32.456% : Iterating | 000111     \r[ 2020-05-18 17:57:21 ] [======>.............] 32.749% : Iterating | 000112     \r[ 2020-05-18 17:57:21 ] [======>.............] 33.041% : Iterating | 000113     \r[ 2020-05-18 17:57:21 ] [======>.............] 33.333% : Iterating | 000114     \r[ 2020-05-18 17:57:21 ] [======>.............] 33.626% : Iterating | 000115     \r[ 2020-05-18 17:57:21 ] [======>.............] 33.918% : Iterating | 000116     \r[ 2020-05-18 17:57:21 ] [======>.............] 34.211% : Iterating | 000117     \r[ 2020-05-18 17:57:21 ] [======>.............] 34.503% : Iterating | 000118     \r[ 2020-05-18 17:57:21 ] [======>.............] 34.795% : Iterating | 000119     \r[ 2020-05-18 17:57:21 ] [=======>............] 35.088% : Iterating | 000120     \r[ 2020-05-18 17:57:21 ] [=======>............] 35.380% : Iterating | 000121     \r[ 2020-05-18 17:57:21 ] [=======>............] 35.673% : Iterating | 000122     \r[ 2020-05-18 17:57:21 ] [=======>............] 35.965% : Iterating | 000123     \r[ 2020-05-18 17:57:21 ] [=======>............] 36.257% : Iterating | 000124     \r[ 2020-05-18 17:57:21 ] [=======>............] 36.550% : Iterating | 000125     \r[ 2020-05-18 17:57:21 ] [=======>............] 36.842% : Iterating | 000126     \r[ 2020-05-18 17:57:21 ] [=======>............] 37.135% : Iterating | 000127     \r[ 2020-05-18 17:57:21 ] [=======>............] 37.427% : Iterating | 000128     \r[ 2020-05-18 17:57:21 ] [=======>............] 37.719% : Iterating | 000129     \r[ 2020-05-18 17:57:21 ] [=======>............] 38.012% : Iterating | 000130     \r[ 2020-05-18 17:57:21 ] [=======>............] 38.304% : Iterating | 000131     \r[ 2020-05-18 17:57:21 ] [=======>............] 38.596% : Iterating | 000132     \r[ 2020-05-18 17:57:21 ] [=======>............] 38.889% : Iterating | 000133     \r[ 2020-05-18 17:57:21 ] [=======>............] 39.181% : Iterating | 000134     \r[ 2020-05-18 17:57:21 ] [=======>............] 39.474% : Iterating | 000135     \r[ 2020-05-18 17:57:21 ] [=======>............] 39.766% : Iterating | 000136     \r[ 2020-05-18 17:57:21 ] [========>...........] 40.058% : Iterating | 000137     \r[ 2020-05-18 17:57:21 ] [========>...........] 40.351% : Iterating | 000138     \r[ 2020-05-18 17:57:21 ] [========>...........] 40.643% : Iterating | 000139     \r[ 2020-05-18 17:57:21 ] [========>...........] 40.936% : Iterating | 000140     \r[ 2020-05-18 17:57:21 ] [========>...........] 41.228% : Iterating | 000141     \r[ 2020-05-18 17:57:21 ] [========>...........] 41.520% : Iterating | 000142     \r[ 2020-05-18 17:57:21 ] [========>...........] 41.813% : Iterating | 000143     \r[ 2020-05-18 17:57:21 ] [========>...........] 42.105% : Iterating | 000144     \r[ 2020-05-18 17:57:21 ] [========>...........] 42.398% : Iterating | 000145     \r[ 2020-05-18 17:57:21 ] [========>...........] 42.690% : Iterating | 000146     \r[ 2020-05-18 17:57:21 ] [========>...........] 42.982% : Iterating | 000147     \r[ 2020-05-18 17:57:21 ] [========>...........] 43.275% : Iterating | 000148     \r[ 2020-05-18 17:57:21 ] [========>...........] 43.567% : Iterating | 000149     \r[ 2020-05-18 17:57:21 ] [========>...........] 43.860% : Iterating | 000150     \r[ 2020-05-18 17:57:21 ] [========>...........] 44.152% : Iterating | 000151     \r[ 2020-05-18 17:57:21 ] [========>...........] 44.444% : Iterating | 000152     \r[ 2020-05-18 17:57:21 ] [========>...........] 44.737% : Iterating | 000153     \r[ 2020-05-18 17:57:21 ] [=========>..........] 45.029% : Iterating | 000154     \r[ 2020-05-18 17:57:21 ] [=========>..........] 45.322% : Iterating | 000155     \r[ 2020-05-18 17:57:21 ] [=========>..........] 45.614% : Iterating | 000156     \r[ 2020-05-18 17:57:21 ] [=========>..........] 45.906% : Iterating | 000157     \r[ 2020-05-18 17:57:21 ] [=========>..........] 46.199% : Iterating | 000158     \r[ 2020-05-18 17:57:21 ] [=========>..........] 46.491% : Iterating | 000159     \r[ 2020-05-18 17:57:21 ] [=========>..........] 46.784% : Iterating | 000160     \r[ 2020-05-18 17:57:21 ] [=========>..........] 47.076% : Iterating | 000161     \r[ 2020-05-18 17:57:21 ] [=========>..........] 47.368% : Iterating | 000162     \r[ 2020-05-18 17:57:21 ] [=========>..........] 47.661% : Iterating | 000163     \r[ 2020-05-18 17:57:21 ] [=========>..........] 47.953% : Iterating | 000164     \r[ 2020-05-18 17:57:21 ] [=========>..........] 48.246% : Iterating | 000165     \r[ 2020-05-18 17:57:21 ] [=========>..........] 48.538% : Iterating | 000166     \r[ 2020-05-18 17:57:21 ] [=========>..........] 48.830% : Iterating | 000167     \r[ 2020-05-18 17:57:21 ] [=========>..........] 49.123% : Iterating | 000168     \r[ 2020-05-18 17:57:21 ] [=========>..........] 49.415% : Iterating | 000169     \r[ 2020-05-18 17:57:21 ] [=========>..........] 49.708% : Iterating | 000170     \r[ 2020-05-18 17:57:21 ] [==========>.........] 50.000% : Iterating | 000171     \r[ 2020-05-18 17:57:21 ] [==========>.........] 50.292% : Iterating | 000172     \r[ 2020-05-18 17:57:21 ] [==========>.........] 50.585% : Iterating | 000173     \r[ 2020-05-18 17:57:21 ] [==========>.........] 50.877% : Iterating | 000174     \r[ 2020-05-18 17:57:21 ] [==========>.........] 51.170% : Iterating | 000175     \r[ 2020-05-18 17:57:21 ] [==========>.........] 51.462% : Iterating | 000176     \r[ 2020-05-18 17:57:21 ] [==========>.........] 51.754% : Iterating | 000177     \r[ 2020-05-18 17:57:21 ] [==========>.........] 52.047% : Iterating | 000178     \r[ 2020-05-18 17:57:21 ] [==========>.........] 52.339% : Iterating | 000179     \r[ 2020-05-18 17:57:21 ] [==========>.........] 52.632% : Iterating | 000180     \r[ 2020-05-18 17:57:21 ] [==========>.........] 52.924% : Iterating | 000181     \r[ 2020-05-18 17:57:21 ] [==========>.........] 53.216% : Iterating | 000182     \r[ 2020-05-18 17:57:21 ] [==========>.........] 53.509% : Iterating | 000183     \r[ 2020-05-18 17:57:21 ] [==========>.........] 53.801% : Iterating | 000184     \r[ 2020-05-18 17:57:21 ] [==========>.........] 54.094% : Iterating | 000185     \r[ 2020-05-18 17:57:21 ] [==========>.........] 54.386% : Iterating | 000186     \r[ 2020-05-18 17:57:21 ] [==========>.........] 54.678% : Iterating | 000187     \r[ 2020-05-18 17:57:21 ] [==========>.........] 54.971% : Iterating | 000188     \r[ 2020-05-18 17:57:21 ] [===========>........] 55.263% : Iterating | 000189     \r[ 2020-05-18 17:57:21 ] [===========>........] 55.556% : Iterating | 000190     \r[ 2020-05-18 17:57:21 ] [===========>........] 55.848% : Iterating | 000191     \r[ 2020-05-18 17:57:21 ] [===========>........] 56.140% : Iterating | 000192     \r[ 2020-05-18 17:57:21 ] [===========>........] 56.433% : Iterating | 000193     \r[ 2020-05-18 17:57:21 ] [===========>........] 56.725% : Iterating | 000194     \r[ 2020-05-18 17:57:21 ] [===========>........] 57.018% : Iterating | 000195     \r[ 2020-05-18 17:57:21 ] [===========>........] 57.310% : Iterating | 000196     \r[ 2020-05-18 17:57:21 ] [===========>........] 57.602% : Iterating | 000197     \r[ 2020-05-18 17:57:21 ] [===========>........] 57.895% : Iterating | 000198     \r[ 2020-05-18 17:57:21 ] [===========>........] 58.187% : Iterating | 000199     \r[ 2020-05-18 17:57:21 ] [===========>........] 58.480% : Iterating | 000200     \r[ 2020-05-18 17:57:21 ] [===========>........] 58.772% : Iterating | 000201     \r[ 2020-05-18 17:57:21 ] [===========>........] 59.064% : Iterating | 000202     \r[ 2020-05-18 17:57:21 ] [===========>........] 59.357% : Iterating | 000203     \r[ 2020-05-18 17:57:21 ] [===========>........] 59.649% : Iterating | 000204     \r[ 2020-05-18 17:57:21 ] [===========>........] 59.942% : Iterating | 000205     \r[ 2020-05-18 17:57:21 ] [============>.......] 60.234% : Iterating | 000206     \r[ 2020-05-18 17:57:21 ] [============>.......] 60.526% : Iterating | 000207     \r[ 2020-05-18 17:57:21 ] [============>.......] 60.819% : Iterating | 000208     \r[ 2020-05-18 17:57:21 ] [============>.......] 61.111% : Iterating | 000209     \r[ 2020-05-18 17:57:21 ] [============>.......] 61.404% : Iterating | 000210     \r[ 2020-05-18 17:57:21 ] [============>.......] 61.696% : Iterating | 000211     \r[ 2020-05-18 17:57:21 ] [============>.......] 61.988% : Iterating | 000212     \r[ 2020-05-18 17:57:21 ] [============>.......] 62.281% : Iterating | 000213     \r[ 2020-05-18 17:57:21 ] [============>.......] 62.573% : Iterating | 000214     \r[ 2020-05-18 17:57:21 ] [============>.......] 62.865% : Iterating | 000215     \r[ 2020-05-18 17:57:21 ] [============>.......] 63.158% : Iterating | 000216     \r[ 2020-05-18 17:57:21 ] [============>.......] 63.450% : Iterating | 000217     \r[ 2020-05-18 17:57:21 ] [============>.......] 63.743% : Iterating | 000218     \r[ 2020-05-18 17:57:21 ] [============>.......] 64.035% : Iterating | 000219     \r[ 2020-05-18 17:57:21 ] [============>.......] 64.327% : Iterating | 000220     \r[ 2020-05-18 17:57:21 ] [============>.......] 64.620% : Iterating | 000221     \r[ 2020-05-18 17:57:21 ] [============>.......] 64.912% : Iterating | 000222     \r[ 2020-05-18 17:57:21 ] [=============>......] 65.205% : Iterating | 000223     \r[ 2020-05-18 17:57:21 ] [=============>......] 65.497% : Iterating | 000224     \r[ 2020-05-18 17:57:21 ] [=============>......] 65.789% : Iterating | 000225     \r[ 2020-05-18 17:57:21 ] [=============>......] 66.082% : Iterating | 000226     \r[ 2020-05-18 17:57:21 ] [=============>......] 66.374% : Iterating | 000227     \r[ 2020-05-18 17:57:21 ] [=============>......] 66.667% : Iterating | 000228     \r[ 2020-05-18 17:57:21 ] [=============>......] 66.959% : Iterating | 000229     \r[ 2020-05-18 17:57:21 ] [=============>......] 67.251% : Iterating | 000230     \r[ 2020-05-18 17:57:21 ] [=============>......] 67.544% : Iterating | 000231     \r[ 2020-05-18 17:57:21 ] [=============>......] 67.836% : Iterating | 000232     \r[ 2020-05-18 17:57:21 ] [=============>......] 68.129% : Iterating | 000233     \r[ 2020-05-18 17:57:21 ] [=============>......] 68.421% : Iterating | 000234     \r[ 2020-05-18 17:57:21 ] [=============>......] 68.713% : Iterating | 000235     \r[ 2020-05-18 17:57:21 ] [=============>......] 69.006% : Iterating | 000236     \r[ 2020-05-18 17:57:21 ] [=============>......] 69.298% : Iterating | 000237     \r[ 2020-05-18 17:57:21 ] [=============>......] 69.591% : Iterating | 000238     \r[ 2020-05-18 17:57:21 ] [=============>......] 69.883% : Iterating | 000239     \r[ 2020-05-18 17:57:21 ] [==============>.....] 70.175% : Iterating | 000240     \r[ 2020-05-18 17:57:21 ] [==============>.....] 70.468% : Iterating | 000241     \r[ 2020-05-18 17:57:21 ] [==============>.....] 70.760% : Iterating | 000242     \r[ 2020-05-18 17:57:21 ] [==============>.....] 71.053% : Iterating | 000243     \r[ 2020-05-18 17:57:21 ] [==============>.....] 71.345% : Iterating | 000244     \r[ 2020-05-18 17:57:21 ] [==============>.....] 71.637% : Iterating | 000245     \r[ 2020-05-18 17:57:21 ] [==============>.....] 71.930% : Iterating | 000246     \r[ 2020-05-18 17:57:21 ] [==============>.....] 72.222% : Iterating | 000247     \r[ 2020-05-18 17:57:21 ] [==============>.....] 72.515% : Iterating | 000248     \r[ 2020-05-18 17:57:21 ] [==============>.....] 72.807% : Iterating | 000249     \r[ 2020-05-18 17:57:21 ] [==============>.....] 73.099% : Iterating | 000250     \r[ 2020-05-18 17:57:21 ] [==============>.....] 73.392% : Iterating | 000251     \r[ 2020-05-18 17:57:21 ] [==============>.....] 73.684% : Iterating | 000252     \r[ 2020-05-18 17:57:21 ] [==============>.....] 73.977% : Iterating | 000253     \r[ 2020-05-18 17:57:21 ] [==============>.....] 74.269% : Iterating | 000254     \r[ 2020-05-18 17:57:21 ] [==============>.....] 74.561% : Iterating | 000255     \r[ 2020-05-18 17:57:21 ] [==============>.....] 74.854% : Iterating | 000256     \r[ 2020-05-18 17:57:21 ] [===============>....] 75.146% : Iterating | 000257     \r[ 2020-05-18 17:57:21 ] [===============>....] 75.439% : Iterating | 000258     \r[ 2020-05-18 17:57:21 ] [===============>....] 75.731% : Iterating | 000259     \r[ 2020-05-18 17:57:21 ] [===============>....] 76.023% : Iterating | 000260     \r[ 2020-05-18 17:57:21 ] [===============>....] 76.316% : Iterating | 000261     \r[ 2020-05-18 17:57:21 ] [===============>....] 76.608% : Iterating | 000262     \r[ 2020-05-18 17:57:21 ] [===============>....] 76.901% : Iterating | 000263     \r[ 2020-05-18 17:57:21 ] [===============>....] 77.193% : Iterating | 000264     \r[ 2020-05-18 17:57:21 ] [===============>....] 77.485% : Iterating | 000265     \r[ 2020-05-18 17:57:21 ] [===============>....] 77.778% : Iterating | 000266     \r[ 2020-05-18 17:57:21 ] [===============>....] 78.070% : Iterating | 000267     \r[ 2020-05-18 17:57:21 ] [===============>....] 78.363% : Iterating | 000268     \r[ 2020-05-18 17:57:21 ] [===============>....] 78.655% : Iterating | 000269     \r[ 2020-05-18 17:57:21 ] [===============>....] 78.947% : Iterating | 000270     \r[ 2020-05-18 17:57:21 ] [===============>....] 79.240% : Iterating | 000271     \r[ 2020-05-18 17:57:21 ] [===============>....] 79.532% : Iterating | 000272     \r[ 2020-05-18 17:57:21 ] [===============>....] 79.825% : Iterating | 000273     \r[ 2020-05-18 17:57:21 ] [================>...] 80.117% : Iterating | 000274     \r[ 2020-05-18 17:57:21 ] [================>...] 80.409% : Iterating | 000275     \r[ 2020-05-18 17:57:21 ] [================>...] 80.702% : Iterating | 000276     \r[ 2020-05-18 17:57:21 ] [================>...] 80.994% : Iterating | 000277     \r[ 2020-05-18 17:57:21 ] [================>...] 81.287% : Iterating | 000278     \r[ 2020-05-18 17:57:21 ] [================>...] 81.579% : Iterating | 000279     \r[ 2020-05-18 17:57:21 ] [================>...] 81.871% : Iterating | 000280     \r[ 2020-05-18 17:57:21 ] [================>...] 82.164% : Iterating | 000281     \r[ 2020-05-18 17:57:21 ] [================>...] 82.456% : Iterating | 000282     \r[ 2020-05-18 17:57:21 ] [================>...] 82.749% : Iterating | 000283     \r[ 2020-05-18 17:57:21 ] [================>...] 83.041% : Iterating | 000284     \r[ 2020-05-18 17:57:21 ] [================>...] 83.333% : Iterating | 000285     \r[ 2020-05-18 17:57:21 ] [================>...] 83.626% : Iterating | 000286     \r[ 2020-05-18 17:57:21 ] [================>...] 83.918% : Iterating | 000287     \r[ 2020-05-18 17:57:21 ] [================>...] 84.211% : Iterating | 000288     \r[ 2020-05-18 17:57:21 ] [================>...] 84.503% : Iterating | 000289     \r[ 2020-05-18 17:57:21 ] [================>...] 84.795% : Iterating | 000290     \r[ 2020-05-18 17:57:21 ] [=================>..] 85.088% : Iterating | 000291     \r[ 2020-05-18 17:57:21 ] [=================>..] 85.380% : Iterating | 000292     \r[ 2020-05-18 17:57:21 ] [=================>..] 85.673% : Iterating | 000293     \r[ 2020-05-18 17:57:21 ] [=================>..] 85.965% : Iterating | 000294     \r[ 2020-05-18 17:57:21 ] [=================>..] 86.257% : Iterating | 000295     \r[ 2020-05-18 17:57:21 ] [=================>..] 86.550% : Iterating | 000296     \r[ 2020-05-18 17:57:21 ] [=================>..] 86.842% : Iterating | 000297     \r[ 2020-05-18 17:57:21 ] [=================>..] 87.135% : Iterating | 000298     \r[ 2020-05-18 17:57:21 ] [=================>..] 87.427% : Iterating | 000299     \r[ 2020-05-18 17:57:21 ] [=================>..] 87.719% : Iterating | 000300     \r[ 2020-05-18 17:57:21 ] [=================>..] 88.012% : Iterating | 000301     \r[ 2020-05-18 17:57:21 ] [=================>..] 88.304% : Iterating | 000302     \r[ 2020-05-18 17:57:21 ] [=================>..] 88.596% : Iterating | 000303     \r[ 2020-05-18 17:57:21 ] [=================>..] 88.889% : Iterating | 000304     \r[ 2020-05-18 17:57:21 ] [=================>..] 89.181% : Iterating | 000305     \r[ 2020-05-18 17:57:21 ] [=================>..] 89.474% : Iterating | 000306     \r[ 2020-05-18 17:57:21 ] [=================>..] 89.766% : Iterating | 000307     \r[ 2020-05-18 17:57:21 ] [==================>.] 90.058% : Iterating | 000308     \r[ 2020-05-18 17:57:21 ] [==================>.] 90.351% : Iterating | 000309     \r[ 2020-05-18 17:57:21 ] [==================>.] 90.643% : Iterating | 000310     \r[ 2020-05-18 17:57:21 ] [==================>.] 90.936% : Iterating | 000311     \r[ 2020-05-18 17:57:21 ] [==================>.] 91.228% : Iterating | 000312     \r[ 2020-05-18 17:57:21 ] [==================>.] 91.520% : Iterating | 000313     \r[ 2020-05-18 17:57:21 ] [==================>.] 91.813% : Iterating | 000314     \r[ 2020-05-18 17:57:21 ] [==================>.] 92.105% : Iterating | 000315     \r[ 2020-05-18 17:57:21 ] [==================>.] 92.398% : Iterating | 000316     \r[ 2020-05-18 17:57:21 ] [==================>.] 92.690% : Iterating | 000317     \r[ 2020-05-18 17:57:21 ] [==================>.] 92.982% : Iterating | 000318     \r[ 2020-05-18 17:57:21 ] [==================>.] 93.275% : Iterating | 000319     \r[ 2020-05-18 17:57:21 ] [==================>.] 93.567% : Iterating | 000320     \r[ 2020-05-18 17:57:21 ] [==================>.] 93.860% : Iterating | 000321     \r[ 2020-05-18 17:57:21 ] [==================>.] 94.152% : Iterating | 000322     \r[ 2020-05-18 17:57:21 ] [==================>.] 94.444% : Iterating | 000323     \r[ 2020-05-18 17:57:21 ] [==================>.] 94.737% : Iterating | 000324     \r[ 2020-05-18 17:57:21 ] [===================>] 95.029% : Iterating | 000325     \r[ 2020-05-18 17:57:21 ] [===================>] 95.322% : Iterating | 000326     \r[ 2020-05-18 17:57:21 ] [===================>] 95.614% : Iterating | 000327     \r[ 2020-05-18 17:57:21 ] [===================>] 95.906% : Iterating | 000328     \r[ 2020-05-18 17:57:21 ] [===================>] 96.199% : Iterating | 000329     \r[ 2020-05-18 17:57:21 ] [===================>] 96.491% : Iterating | 000330     \r[ 2020-05-18 17:57:21 ] [===================>] 96.784% : Iterating | 000331     \r[ 2020-05-18 17:57:21 ] [===================>] 97.076% : Iterating | 000332     \r[ 2020-05-18 17:57:21 ] [===================>] 97.368% : Iterating | 000333     \r[ 2020-05-18 17:57:21 ] [===================>] 97.661% : Iterating | 000334     \r[ 2020-05-18 17:57:21 ] [===================>] 97.953% : Iterating | 000335     \r[ 2020-05-18 17:57:21 ] [===================>] 98.246% : Iterating | 000336     \r[ 2020-05-18 17:57:21 ] [===================>] 98.538% : Iterating | 000337     \r[ 2020-05-18 17:57:21 ] [===================>] 98.830% : Iterating | 000338     \r[ 2020-05-18 17:57:21 ] [===================>] 99.123% : Iterating | 000339     \r[ 2020-05-18 17:57:21 ] [===================>] 99.415% : Iterating | 000340     \r[ 2020-05-18 17:57:21 ] [===================>] 99.708% : Iterating | 000341     \r[ 2020-05-18 17:57:21 ] [====================] 100.000% : Iterating | 000342    "
          ],
          "name": "stdout"
        }
      ]
    },
    {
      "cell_type": "code",
      "metadata": {
        "id": "Bk-AxOLy5Q_g",
        "colab_type": "code",
        "colab": {
          "base_uri": "https://localhost:8080/",
          "height": 829
        },
        "outputId": "3f36f0a8-3544-40ab-b253-5db0307fdf7a"
      },
      "source": [
        "# --- Train model\n",
        "model.fit(\n",
        "    x=gen_train, \n",
        "    steps_per_epoch=500, \n",
        "    epochs=16,\n",
        "    validation_data=gen_valid,\n",
        "    validation_steps=500,\n",
        "    validation_freq=4,\n",
        "    use_multiprocessing=True)"
      ],
      "execution_count": 32,
      "outputs": [
        {
          "output_type": "stream",
          "text": [
            "WARNING:tensorflow:multiprocessing can interact badly with TensorFlow, causing nondeterministic deadlocks. For high performance data pipelines tf.data is recommended.\n",
            "Epoch 1/16\n",
            "500/500 [==============================] - 81s 163ms/step - loss: 0.0388 - cls-c3_loss: 0.0139 - cls-c4_loss: 0.0124 - cls-c5_loss: 0.0123 - reg-c3_loss: 8.9405e-06 - reg-c4_loss: 6.1357e-05 - reg-c5_loss: 1.6280e-04 - cls-c3_sigmoid_ce_sens: 0.0180 - cls-c3_sigmoid_ce_ppv: 1.0757e-05 - cls-c4_sigmoid_ce_sens: 0.0386 - cls-c4_sigmoid_ce_ppv: 0.1591 - cls-c5_sigmoid_ce_sens: 0.2291 - cls-c5_sigmoid_ce_ppv: 0.5029\n",
            "Epoch 2/16\n",
            "500/500 [==============================] - 70s 141ms/step - loss: 0.0014 - cls-c3_loss: 3.1100e-04 - cls-c4_loss: 5.0026e-04 - cls-c5_loss: 5.4867e-04 - reg-c3_loss: 3.9833e-06 - reg-c4_loss: 1.5913e-05 - reg-c5_loss: 2.3976e-05 - cls-c3_sigmoid_ce_sens: 0.0000e+00 - cls-c3_sigmoid_ce_ppv: 0.0000e+00 - cls-c4_sigmoid_ce_sens: 0.3262 - cls-c4_sigmoid_ce_ppv: 0.4397 - cls-c5_sigmoid_ce_sens: 0.5669 - cls-c5_sigmoid_ce_ppv: 0.5778\n",
            "Epoch 3/16\n",
            "500/500 [==============================] - 71s 141ms/step - loss: 7.8631e-04 - cls-c3_loss: 1.5709e-04 - cls-c4_loss: 2.8685e-04 - cls-c5_loss: 3.0791e-04 - reg-c3_loss: 3.2917e-06 - reg-c4_loss: 1.2795e-05 - reg-c5_loss: 1.8373e-05 - cls-c3_sigmoid_ce_sens: 0.0000e+00 - cls-c3_sigmoid_ce_ppv: 0.0000e+00 - cls-c4_sigmoid_ce_sens: 0.5245 - cls-c4_sigmoid_ce_ppv: 0.3554 - cls-c5_sigmoid_ce_sens: 0.7062 - cls-c5_sigmoid_ce_ppv: 0.5015\n",
            "Epoch 4/16\n",
            "499/500 [============================>.] - ETA: 0s - loss: 5.0772e-04 - cls-c3_loss: 1.0405e-04 - cls-c4_loss: 1.9943e-04 - cls-c5_loss: 1.7568e-04 - reg-c3_loss: 3.3038e-06 - reg-c4_loss: 1.0884e-05 - reg-c5_loss: 1.4376e-05 - cls-c3_sigmoid_ce_sens: 0.0000e+00 - cls-c3_sigmoid_ce_ppv: 0.0000e+00 - cls-c4_sigmoid_ce_sens: 0.6397 - cls-c4_sigmoid_ce_ppv: 0.3113 - cls-c5_sigmoid_ce_sens: 0.8191 - cls-c5_sigmoid_ce_ppv: 0.4464WARNING:tensorflow:multiprocessing can interact badly with TensorFlow, causing nondeterministic deadlocks. For high performance data pipelines tf.data is recommended.\n",
            "Epoch 1/16\n",
            "500/500 [==============================] - 60s 121ms/step - loss: 4.8111e-04 - cls-c3_loss: 8.5482e-05 - cls-c4_loss: 1.8152e-04 - cls-c5_loss: 1.8184e-04 - reg-c3_loss: 3.4253e-06 - reg-c4_loss: 1.0143e-05 - reg-c5_loss: 1.8705e-05 - cls-c3_sigmoid_ce_sens: 0.0000e+00 - cls-c3_sigmoid_ce_ppv: 0.0000e+00 - cls-c4_sigmoid_ce_sens: 0.6323 - cls-c4_sigmoid_ce_ppv: 0.3253 - cls-c5_sigmoid_ce_sens: 0.8260 - cls-c5_sigmoid_ce_ppv: 0.4337\n",
            "500/500 [==============================] - 130s 261ms/step - loss: 5.0784e-04 - cls-c3_loss: 1.0402e-04 - cls-c4_loss: 1.9951e-04 - cls-c5_loss: 1.7574e-04 - reg-c3_loss: 3.3090e-06 - reg-c4_loss: 1.0878e-05 - reg-c5_loss: 1.4378e-05 - cls-c3_sigmoid_ce_sens: 0.0000e+00 - cls-c3_sigmoid_ce_ppv: 0.0000e+00 - cls-c4_sigmoid_ce_sens: 0.6392 - cls-c4_sigmoid_ce_ppv: 0.3112 - cls-c5_sigmoid_ce_sens: 0.8189 - cls-c5_sigmoid_ce_ppv: 0.4463 - val_loss: 4.8111e-04 - val_cls-c3_loss: 8.5482e-05 - val_cls-c4_loss: 1.8152e-04 - val_cls-c5_loss: 1.8184e-04 - val_reg-c3_loss: 3.4253e-06 - val_reg-c4_loss: 1.0143e-05 - val_reg-c5_loss: 1.8705e-05 - val_cls-c3_sigmoid_ce_sens: 0.0000e+00 - val_cls-c3_sigmoid_ce_ppv: 0.0000e+00 - val_cls-c4_sigmoid_ce_sens: 0.6323 - val_cls-c4_sigmoid_ce_ppv: 0.3253 - val_cls-c5_sigmoid_ce_sens: 0.8260 - val_cls-c5_sigmoid_ce_ppv: 0.4337\n",
            "Epoch 5/16\n",
            "500/500 [==============================] - 71s 143ms/step - loss: 3.5437e-04 - cls-c3_loss: 7.8681e-05 - cls-c4_loss: 1.4620e-04 - cls-c5_loss: 1.0442e-04 - reg-c3_loss: 3.1273e-06 - reg-c4_loss: 9.4622e-06 - reg-c5_loss: 1.2486e-05 - cls-c3_sigmoid_ce_sens: 7.0483e-04 - cls-c3_sigmoid_ce_ppv: 0.0050 - cls-c4_sigmoid_ce_sens: 0.7219 - cls-c4_sigmoid_ce_ppv: 0.2880 - cls-c5_sigmoid_ce_sens: 0.8725 - cls-c5_sigmoid_ce_ppv: 0.4081\n",
            "Epoch 6/16\n",
            "500/500 [==============================] - 71s 143ms/step - loss: 2.7915e-04 - cls-c3_loss: 6.4971e-05 - cls-c4_loss: 1.1834e-04 - cls-c5_loss: 7.3762e-05 - reg-c3_loss: 2.9423e-06 - reg-c4_loss: 8.4391e-06 - reg-c5_loss: 1.0693e-05 - cls-c3_sigmoid_ce_sens: 0.0043 - cls-c3_sigmoid_ce_ppv: 0.0187 - cls-c4_sigmoid_ce_sens: 0.7601 - cls-c4_sigmoid_ce_ppv: 0.2718 - cls-c5_sigmoid_ce_sens: 0.8946 - cls-c5_sigmoid_ce_ppv: 0.3788\n",
            "Epoch 7/16\n",
            "500/500 [==============================] - 71s 143ms/step - loss: 2.2382e-04 - cls-c3_loss: 5.5640e-05 - cls-c4_loss: 9.5235e-05 - cls-c5_loss: 5.2219e-05 - reg-c3_loss: 2.8154e-06 - reg-c4_loss: 7.9347e-06 - reg-c5_loss: 9.9729e-06 - cls-c3_sigmoid_ce_sens: 0.0171 - cls-c3_sigmoid_ce_ppv: 0.0681 - cls-c4_sigmoid_ce_sens: 0.8049 - cls-c4_sigmoid_ce_ppv: 0.2620 - cls-c5_sigmoid_ce_sens: 0.9113 - cls-c5_sigmoid_ce_ppv: 0.3557\n",
            "Epoch 8/16\n",
            "499/500 [============================>.] - ETA: 0s - loss: 1.7856e-04 - cls-c3_loss: 4.8130e-05 - cls-c4_loss: 7.6032e-05 - cls-c5_loss: 3.5283e-05 - reg-c3_loss: 2.5625e-06 - reg-c4_loss: 7.3267e-06 - reg-c5_loss: 9.2255e-06 - cls-c3_sigmoid_ce_sens: 0.0401 - cls-c3_sigmoid_ce_ppv: 0.1109 - cls-c4_sigmoid_ce_sens: 0.8356 - cls-c4_sigmoid_ce_ppv: 0.2487 - cls-c5_sigmoid_ce_sens: 0.9279 - cls-c5_sigmoid_ce_ppv: 0.3429WARNING:tensorflow:multiprocessing can interact badly with TensorFlow, causing nondeterministic deadlocks. For high performance data pipelines tf.data is recommended.\n",
            "Epoch 1/16\n",
            "500/500 [==============================] - 60s 119ms/step - loss: 2.6756e-04 - cls-c3_loss: 4.3435e-05 - cls-c4_loss: 1.1602e-04 - cls-c5_loss: 8.2299e-05 - reg-c3_loss: 3.0239e-06 - reg-c4_loss: 8.6336e-06 - reg-c5_loss: 1.4145e-05 - cls-c3_sigmoid_ce_sens: 0.0633 - cls-c3_sigmoid_ce_ppv: 0.1817 - cls-c4_sigmoid_ce_sens: 0.8684 - cls-c4_sigmoid_ce_ppv: 0.2058 - cls-c5_sigmoid_ce_sens: 0.9226 - cls-c5_sigmoid_ce_ppv: 0.3230\n",
            "500/500 [==============================] - 131s 263ms/step - loss: 1.7838e-04 - cls-c3_loss: 4.8104e-05 - cls-c4_loss: 7.5936e-05 - cls-c5_loss: 3.5230e-05 - reg-c3_loss: 2.5601e-06 - reg-c4_loss: 7.3178e-06 - reg-c5_loss: 9.2288e-06 - cls-c3_sigmoid_ce_sens: 0.0402 - cls-c3_sigmoid_ce_ppv: 0.1114 - cls-c4_sigmoid_ce_sens: 0.8358 - cls-c4_sigmoid_ce_ppv: 0.2485 - cls-c5_sigmoid_ce_sens: 0.9279 - cls-c5_sigmoid_ce_ppv: 0.3429 - val_loss: 2.6756e-04 - val_cls-c3_loss: 4.3435e-05 - val_cls-c4_loss: 1.1602e-04 - val_cls-c5_loss: 8.2299e-05 - val_reg-c3_loss: 3.0239e-06 - val_reg-c4_loss: 8.6336e-06 - val_reg-c5_loss: 1.4145e-05 - val_cls-c3_sigmoid_ce_sens: 0.0633 - val_cls-c3_sigmoid_ce_ppv: 0.1817 - val_cls-c4_sigmoid_ce_sens: 0.8684 - val_cls-c4_sigmoid_ce_ppv: 0.2058 - val_cls-c5_sigmoid_ce_sens: 0.9226 - val_cls-c5_sigmoid_ce_ppv: 0.3230\n",
            "Epoch 9/16\n",
            "500/500 [==============================] - 71s 142ms/step - loss: 1.3903e-04 - cls-c3_loss: 4.2502e-05 - cls-c4_loss: 5.6253e-05 - cls-c5_loss: 2.2856e-05 - reg-c3_loss: 2.4229e-06 - reg-c4_loss: 6.7310e-06 - reg-c5_loss: 8.2628e-06 - cls-c3_sigmoid_ce_sens: 0.0630 - cls-c3_sigmoid_ce_ppv: 0.1472 - cls-c4_sigmoid_ce_sens: 0.8680 - cls-c4_sigmoid_ce_ppv: 0.2383 - cls-c5_sigmoid_ce_sens: 0.9371 - cls-c5_sigmoid_ce_ppv: 0.3240\n",
            "Epoch 10/16\n",
            "500/500 [==============================] - 71s 143ms/step - loss: 1.1939e-04 - cls-c3_loss: 3.8975e-05 - cls-c4_loss: 4.8514e-05 - cls-c5_loss: 1.5406e-05 - reg-c3_loss: 2.3326e-06 - reg-c4_loss: 6.4831e-06 - reg-c5_loss: 7.6759e-06 - cls-c3_sigmoid_ce_sens: 0.0951 - cls-c3_sigmoid_ce_ppv: 0.1851 - cls-c4_sigmoid_ce_sens: 0.8869 - cls-c4_sigmoid_ce_ppv: 0.2339 - cls-c5_sigmoid_ce_sens: 0.9409 - cls-c5_sigmoid_ce_ppv: 0.3173\n",
            "Epoch 11/16\n",
            "500/500 [==============================] - 71s 143ms/step - loss: 9.7475e-05 - cls-c3_loss: 3.4539e-05 - cls-c4_loss: 3.6551e-05 - cls-c5_loss: 1.0963e-05 - reg-c3_loss: 2.0059e-06 - reg-c4_loss: 6.1628e-06 - reg-c5_loss: 7.2541e-06 - cls-c3_sigmoid_ce_sens: 0.1324 - cls-c3_sigmoid_ce_ppv: 0.1942 - cls-c4_sigmoid_ce_sens: 0.9089 - cls-c4_sigmoid_ce_ppv: 0.2275 - cls-c5_sigmoid_ce_sens: 0.9436 - cls-c5_sigmoid_ce_ppv: 0.3033\n",
            "Epoch 12/16\n",
            "499/500 [============================>.] - ETA: 0s - loss: 1.0911e-04 - cls-c3_loss: 3.2120e-05 - cls-c4_loss: 4.2042e-05 - cls-c5_loss: 1.9215e-05 - reg-c3_loss: 2.0407e-06 - reg-c4_loss: 6.3137e-06 - reg-c5_loss: 7.3802e-06 - cls-c3_sigmoid_ce_sens: 0.1607 - cls-c3_sigmoid_ce_ppv: 0.2161 - cls-c4_sigmoid_ce_sens: 0.8977 - cls-c4_sigmoid_ce_ppv: 0.2379 - cls-c5_sigmoid_ce_sens: 0.9356 - cls-c5_sigmoid_ce_ppv: 0.3083WARNING:tensorflow:multiprocessing can interact badly with TensorFlow, causing nondeterministic deadlocks. For high performance data pipelines tf.data is recommended.\n",
            "Epoch 1/16\n",
            "500/500 [==============================] - 59s 118ms/step - loss: 2.5029e-04 - cls-c3_loss: 3.5542e-05 - cls-c4_loss: 1.1694e-04 - cls-c5_loss: 7.5553e-05 - reg-c3_loss: 2.9533e-06 - reg-c4_loss: 7.4859e-06 - reg-c5_loss: 1.1814e-05 - cls-c3_sigmoid_ce_sens: 0.1076 - cls-c3_sigmoid_ce_ppv: 0.1905 - cls-c4_sigmoid_ce_sens: 0.8534 - cls-c4_sigmoid_ce_ppv: 0.2074 - cls-c5_sigmoid_ce_sens: 0.9203 - cls-c5_sigmoid_ce_ppv: 0.3183\n",
            "500/500 [==============================] - 130s 260ms/step - loss: 1.0900e-04 - cls-c3_loss: 3.2072e-05 - cls-c4_loss: 4.2019e-05 - cls-c5_loss: 1.9184e-05 - reg-c3_loss: 2.0378e-06 - reg-c4_loss: 6.3153e-06 - reg-c5_loss: 7.3723e-06 - cls-c3_sigmoid_ce_sens: 0.1615 - cls-c3_sigmoid_ce_ppv: 0.2171 - cls-c4_sigmoid_ce_sens: 0.8977 - cls-c4_sigmoid_ce_ppv: 0.2379 - cls-c5_sigmoid_ce_sens: 0.9356 - cls-c5_sigmoid_ce_ppv: 0.3082 - val_loss: 2.5029e-04 - val_cls-c3_loss: 3.5542e-05 - val_cls-c4_loss: 1.1694e-04 - val_cls-c5_loss: 7.5553e-05 - val_reg-c3_loss: 2.9533e-06 - val_reg-c4_loss: 7.4859e-06 - val_reg-c5_loss: 1.1814e-05 - val_cls-c3_sigmoid_ce_sens: 0.1076 - val_cls-c3_sigmoid_ce_ppv: 0.1905 - val_cls-c4_sigmoid_ce_sens: 0.8534 - val_cls-c4_sigmoid_ce_ppv: 0.2074 - val_cls-c5_sigmoid_ce_sens: 0.9203 - val_cls-c5_sigmoid_ce_ppv: 0.3183\n",
            "Epoch 13/16\n",
            "500/500 [==============================] - 71s 142ms/step - loss: 7.3999e-05 - cls-c3_loss: 2.9019e-05 - cls-c4_loss: 2.4944e-05 - cls-c5_loss: 6.2292e-06 - reg-c3_loss: 1.8201e-06 - reg-c4_loss: 5.6091e-06 - reg-c5_loss: 6.3772e-06 - cls-c3_sigmoid_ce_sens: 0.1914 - cls-c3_sigmoid_ce_ppv: 0.2143 - cls-c4_sigmoid_ce_sens: 0.9276 - cls-c4_sigmoid_ce_ppv: 0.2223 - cls-c5_sigmoid_ce_sens: 0.9475 - cls-c5_sigmoid_ce_ppv: 0.2954\n",
            "Epoch 14/16\n",
            "500/500 [==============================] - 71s 142ms/step - loss: 7.1785e-05 - cls-c3_loss: 2.6674e-05 - cls-c4_loss: 2.2344e-05 - cls-c5_loss: 9.2793e-06 - reg-c3_loss: 1.7400e-06 - reg-c4_loss: 5.4805e-06 - reg-c5_loss: 6.2667e-06 - cls-c3_sigmoid_ce_sens: 0.2469 - cls-c3_sigmoid_ce_ppv: 0.2256 - cls-c4_sigmoid_ce_sens: 0.9339 - cls-c4_sigmoid_ce_ppv: 0.2208 - cls-c5_sigmoid_ce_sens: 0.9463 - cls-c5_sigmoid_ce_ppv: 0.2994\n",
            "Epoch 15/16\n",
            "500/500 [==============================] - 71s 142ms/step - loss: 6.3946e-05 - cls-c3_loss: 2.5476e-05 - cls-c4_loss: 1.8512e-05 - cls-c5_loss: 7.1422e-06 - reg-c3_loss: 1.6704e-06 - reg-c4_loss: 5.2917e-06 - reg-c5_loss: 5.8541e-06 - cls-c3_sigmoid_ce_sens: 0.2694 - cls-c3_sigmoid_ce_ppv: 0.2092 - cls-c4_sigmoid_ce_sens: 0.9407 - cls-c4_sigmoid_ce_ppv: 0.2163 - cls-c5_sigmoid_ce_sens: 0.9463 - cls-c5_sigmoid_ce_ppv: 0.2914\n",
            "Epoch 16/16\n",
            "499/500 [============================>.] - ETA: 0s - loss: 7.7126e-05 - cls-c3_loss: 2.3858e-05 - cls-c4_loss: 2.5704e-05 - cls-c5_loss: 1.4229e-05 - reg-c3_loss: 1.6162e-06 - reg-c4_loss: 5.4504e-06 - reg-c5_loss: 6.2672e-06 - cls-c3_sigmoid_ce_sens: 0.3129 - cls-c3_sigmoid_ce_ppv: 0.2241 - cls-c4_sigmoid_ce_sens: 0.9308 - cls-c4_sigmoid_ce_ppv: 0.2237 - cls-c5_sigmoid_ce_sens: 0.9403 - cls-c5_sigmoid_ce_ppv: 0.2920WARNING:tensorflow:multiprocessing can interact badly with TensorFlow, causing nondeterministic deadlocks. For high performance data pipelines tf.data is recommended.\n",
            "Epoch 1/16\n",
            "500/500 [==============================] - 59s 117ms/step - loss: 2.7182e-04 - cls-c3_loss: 3.5960e-05 - cls-c4_loss: 1.1631e-04 - cls-c5_loss: 9.8554e-05 - reg-c3_loss: 3.0818e-06 - reg-c4_loss: 6.9967e-06 - reg-c5_loss: 1.0913e-05 - cls-c3_sigmoid_ce_sens: 0.1779 - cls-c3_sigmoid_ce_ppv: 0.1773 - cls-c4_sigmoid_ce_sens: 0.8919 - cls-c4_sigmoid_ce_ppv: 0.1946 - cls-c5_sigmoid_ce_sens: 0.9333 - cls-c5_sigmoid_ce_ppv: 0.2890\n",
            "500/500 [==============================] - 130s 260ms/step - loss: 7.7042e-05 - cls-c3_loss: 2.3829e-05 - cls-c4_loss: 2.5664e-05 - cls-c5_loss: 1.4203e-05 - reg-c3_loss: 1.6171e-06 - reg-c4_loss: 5.4562e-06 - reg-c5_loss: 6.2721e-06 - cls-c3_sigmoid_ce_sens: 0.3123 - cls-c3_sigmoid_ce_ppv: 0.2237 - cls-c4_sigmoid_ce_sens: 0.9309 - cls-c4_sigmoid_ce_ppv: 0.2238 - cls-c5_sigmoid_ce_sens: 0.9403 - cls-c5_sigmoid_ce_ppv: 0.2919 - val_loss: 2.7182e-04 - val_cls-c3_loss: 3.5960e-05 - val_cls-c4_loss: 1.1631e-04 - val_cls-c5_loss: 9.8554e-05 - val_reg-c3_loss: 3.0818e-06 - val_reg-c4_loss: 6.9967e-06 - val_reg-c5_loss: 1.0913e-05 - val_cls-c3_sigmoid_ce_sens: 0.1779 - val_cls-c3_sigmoid_ce_ppv: 0.1773 - val_cls-c4_sigmoid_ce_sens: 0.8919 - val_cls-c4_sigmoid_ce_ppv: 0.1946 - val_cls-c5_sigmoid_ce_sens: 0.9333 - val_cls-c5_sigmoid_ce_ppv: 0.2890\n"
          ],
          "name": "stdout"
        },
        {
          "output_type": "execute_result",
          "data": {
            "text/plain": [
              "<tensorflow.python.keras.callbacks.History at 0x7f5b3ac10978>"
            ]
          },
          "metadata": {
            "tags": []
          },
          "execution_count": 32
        }
      ]
    },
    {
      "cell_type": "markdown",
      "metadata": {
        "id": "POnrkiWd0633",
        "colab_type": "text"
      },
      "source": [
        "# Evaluation\n",
        "\n",
        "Based on the tutorial discussion, use the following cells to calculate model performance. The following metrics should be calculated:\n",
        "\n",
        "* median IoU\n",
        "* 25th percentile IoU\n",
        "* 75th percentile IoU\n",
        "\n",
        "As in prior assignments, accuracy is determined on a patient by patient (volume by volume) basis, so please calculate the IoU prediction values for each 3D volume (not slice-by-slice).\n",
        "\n",
        "### Performance\n",
        "\n",
        "The following minimum performance metrics must be met for full credit:\n",
        "\n",
        "* median IoU: >0.50\n",
        "* 25th percentile IoU: >0.40\n",
        "* 75th percentile IoU: >0.60"
      ]
    },
    {
      "cell_type": "code",
      "metadata": {
        "id": "dgh77Jvc0633",
        "colab_type": "code",
        "colab": {}
      },
      "source": [
        "# --- Create validation generator\n",
        "test_train, test_valid = client.create_generators(test=True, expand=True)\n",
        "test_train, test_valid = bb.create_generators(test_train, test_valid, msk='prostate')"
      ],
      "execution_count": 0,
      "outputs": []
    },
    {
      "cell_type": "code",
      "metadata": {
        "id": "FTVbEGKq0636",
        "colab_type": "code",
        "colab": {
          "base_uri": "https://localhost:8080/",
          "height": 34
        },
        "outputId": "db981259-10be-4f69-e957-9efbb8fae005"
      },
      "source": [
        "ious = {\n",
        "    'med': [],\n",
        "    'p25': [],\n",
        "    'p75': []}\n",
        "\n",
        "for x, y in test_train:\n",
        "    \n",
        "    # --- Predict\n",
        "    box = model.predict(x)\n",
        "    if type(box) is list:\n",
        "        box = {k: l for k, l in zip(model.output_names, box)}\n",
        "        \n",
        "    # --- Convert predictions to anchors\n",
        "    anchors_pred, _ = bb.convert_box_to_anc(box)\n",
        "    \n",
        "    # --- Convert ground-truth to anchors\n",
        "    anchors_true, _ = bb.convert_box_to_anc(y)\n",
        "    \n",
        "    # --- Calculate IoUs\n",
        "    curr = []\n",
        "    for pred, true in zip(anchors_pred, anchors_true):\n",
        "        for p in pred:\n",
        "            iou = bb.calculate_ious(box=p, anchors=true)\n",
        "            if iou.size > 0:\n",
        "                curr.append(np.max(iou))\n",
        "            else: \n",
        "                curr.append(0)\n",
        "    \n",
        "    if len(curr) == 0:\n",
        "        curr = [0]\n",
        "        \n",
        "    ious['med'].append(np.median(curr))\n",
        "    ious['p25'].append(np.percentile(curr, 25))\n",
        "    ious['p75'].append(np.percentile(curr, 75))\n",
        "    \n",
        "ious = {k: np.array(v) for k, v in ious.items()}"
      ],
      "execution_count": 34,
      "outputs": [
        {
          "output_type": "stream",
          "text": [
            "[ 2020-05-18 18:21:50 ] [====================] 100.000% : Iterating | 000273    "
          ],
          "name": "stdout"
        }
      ]
    },
    {
      "cell_type": "code",
      "metadata": {
        "id": "0uNn0hJ-Cx87",
        "colab_type": "code",
        "colab": {
          "base_uri": "https://localhost:8080/",
          "height": 69
        },
        "outputId": "37579a3a-b3cc-49a0-d90e-8cb4fa1ffb66"
      },
      "source": [
        "# --- Define columns\n",
        "df = pd.DataFrame(index=np.arange(ious['med'].size))\n",
        "df['iou_median'] = ious['med']\n",
        "df['iou_p-25th'] = ious['p25']\n",
        "df['iou_p-75th'] = ious['p75']\n",
        "\n",
        "# --- Print accuracy\n",
        "print(df['iou_median'].median())\n",
        "print(df['iou_p-25th'].median())\n",
        "print(df['iou_p-75th'].median())"
      ],
      "execution_count": 36,
      "outputs": [
        {
          "output_type": "stream",
          "text": [
            "0.6470589637756348\n",
            "0.5710867047309875\n",
            "0.7327057421207428\n"
          ],
          "name": "stdout"
        }
      ]
    },
    {
      "cell_type": "markdown",
      "metadata": {
        "id": "VdmSiYnJ0638",
        "colab_type": "text"
      },
      "source": [
        "### Results\n",
        "\n",
        "When ready, create a `*.csv` file with your compiled **validation** cohort Dice score statistics. There is no need to submit training performance accuracy."
      ]
    },
    {
      "cell_type": "code",
      "metadata": {
        "id": "9e458uV00639",
        "colab_type": "code",
        "colab": {
          "base_uri": "https://localhost:8080/",
          "height": 69
        },
        "outputId": "19c32171-7acf-4602-d645-dee853f1e145"
      },
      "source": [
        "ious = {\n",
        "    'med': [],\n",
        "    'p25': [],\n",
        "    'p75': []}\n",
        "\n",
        "for x, y in test_valid:\n",
        "    \n",
        "    # --- Predict\n",
        "    box = model.predict(x)\n",
        "    if type(box) is list:\n",
        "        box = {k: l for k, l in zip(model.output_names, box)}\n",
        "        \n",
        "    # --- Convert predictions to anchors\n",
        "    anchors_pred, _ = bb.convert_box_to_anc(box)\n",
        "    \n",
        "    # --- Convert ground-truth to anchors\n",
        "    anchors_true, _ = bb.convert_box_to_anc(y)\n",
        "    \n",
        "    # --- Calculate IoUs\n",
        "    curr = []\n",
        "    for pred, true in zip(anchors_pred, anchors_true):\n",
        "        for p in pred:\n",
        "            iou = bb.calculate_ious(box=p, anchors=true)\n",
        "            if iou.size > 0:\n",
        "                curr.append(np.max(iou))\n",
        "            else: \n",
        "                curr.append(0)\n",
        "    \n",
        "    if len(curr) == 0:\n",
        "        curr = [0]\n",
        "        \n",
        "    ious['med'].append(np.median(curr))\n",
        "    ious['p25'].append(np.percentile(curr, 25))\n",
        "    ious['p75'].append(np.percentile(curr, 75))\n",
        "    \n",
        "ious = {k: np.array(v) for k, v in ious.items()}\n",
        "\n",
        "# --- Define columns\n",
        "df = pd.DataFrame(index=np.arange(ious['med'].size))\n",
        "df['iou_median'] = ious['med']\n",
        "df['iou_p-25th'] = ious['p25']\n",
        "df['iou_p-75th'] = ious['p75']\n",
        "\n",
        "# --- Print accuracy\n",
        "print(df['iou_median'].median())\n",
        "print(df['iou_p-25th'].median())\n",
        "print(df['iou_p-75th'].median())"
      ],
      "execution_count": 44,
      "outputs": [
        {
          "output_type": "stream",
          "text": [
            "[ 2020-05-18 18:37:36 ] [====================] 100.000% : Iterating | 000069    0.6383447498083115\n",
            "0.5526261702179909\n",
            "0.7226076871156693\n"
          ],
          "name": "stdout"
        }
      ]
    },
    {
      "cell_type": "markdown",
      "metadata": {
        "id": "n9cKdrQW064A",
        "colab_type": "text"
      },
      "source": [
        "# Submission\n",
        "\n",
        "Use the following line to save your model for submission (in Google Colab this should save your model file into your personal Google Drive):"
      ]
    },
    {
      "cell_type": "code",
      "metadata": {
        "id": "tkdWq-m-064A",
        "colab_type": "code",
        "colab": {}
      },
      "source": [
        "import os\n",
        "# --- Serialize a model\n",
        "fname = '{}/models/box_localization/final.hdf5'.format(MOUNT_ROOT)\n",
        "os.makedirs(os.path.dirname(fname), exist_ok=True)\n",
        "model.save(fname)"
      ],
      "execution_count": 0,
      "outputs": []
    },
    {
      "cell_type": "markdown",
      "metadata": {
        "id": "8RgVQsji064F",
        "colab_type": "text"
      },
      "source": [
        "### Canvas\n",
        "\n",
        "Once you have completed this assignment, download the necessary files from Google Colab and your Google Drive. You will then need to submit the following items:\n",
        "\n",
        "* final (completed) notebook: `[UCInetID]_assignment.ipynb`\n",
        "* final (results) spreadsheet: `[UCInetID]_results.csv`\n",
        "* final (trained) model: `[UCInetID]_model.hdf5`\n",
        "\n",
        "**Important**: please submit all your files prefixed with your UCInetID as listed above. Your UCInetID is the part of your UCI email address that comes before `@uci.edu`. For example, Peter Anteater has an email address of panteater@uci.edu, so his notebooke file would be submitted under the name `panteater_notebook.ipynb`, his spreadshhet would be submitted under the name `panteater_results.csv` and and his model file would be submitted under the name `panteater_model.hdf5`."
      ]
    }
  ]
}