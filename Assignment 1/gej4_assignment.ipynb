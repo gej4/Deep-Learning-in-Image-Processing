{
  "nbformat": 4,
  "nbformat_minor": 0,
  "metadata": {
    "kernelspec": {
      "name": "python3",
      "display_name": "Python 3"
    },
    "language_info": {
      "codemirror_mode": {
        "name": "ipython",
        "version": 3
      },
      "file_extension": ".py",
      "mimetype": "text/x-python",
      "name": "python",
      "nbconvert_exporter": "python",
      "pygments_lexer": "ipython3",
      "version": "3.6.10"
    },
    "colab": {
      "name": "assignment.ipynb",
      "provenance": []
    },
    "accelerator": "GPU"
  },
  "cells": [
    {
      "cell_type": "markdown",
      "metadata": {
        "id": "VLgKtJDpkqiQ",
        "colab_type": "text"
      },
      "source": [
        "# Assignment\n",
        "\n",
        "In this assignment we will train a multiple (multivariable) linear regression model, extending the single variable linear regression model in the tutorial. \n",
        "\n",
        "This assignment is part of the class **Introduction to Deep Learning for Medical Imaging** at University of California Irvine (CS190); more information can be found: https://github.com/peterchang77/dl_tutor/tree/master/cs190."
      ]
    },
    {
      "cell_type": "markdown",
      "metadata": {
        "id": "6DBAKro4kqiR",
        "colab_type": "text"
      },
      "source": [
        "### Submission\n",
        "\n",
        "Once complete, the following items must be submitted:\n",
        "\n",
        "* final `*.ipynb` notebook\n",
        "* final trained `*.hdf5` model file"
      ]
    },
    {
      "cell_type": "markdown",
      "metadata": {
        "colab_type": "text",
        "id": "56d3oMiMw8Wm"
      },
      "source": [
        "# Google Colab\n",
        "\n",
        "The following lines of code will configure your Google Colab environment for this assignment."
      ]
    },
    {
      "cell_type": "markdown",
      "metadata": {
        "id": "GSyGEODgkqiT",
        "colab_type": "text"
      },
      "source": [
        "### Enable GPU runtime\n",
        "\n",
        "Use the following instructions to switch the default Colab instance into a GPU-enabled runtime:\n",
        "\n",
        "```\n",
        "Runtime > Change runtime type > Hardware accelerator > GPU\n",
        "```"
      ]
    },
    {
      "cell_type": "markdown",
      "metadata": {
        "id": "r-ZhO27XkqiT",
        "colab_type": "text"
      },
      "source": [
        "### Mount Google Drive\n",
        "\n",
        "The Google Colab environment is transient and will reset after any prolonged break in activity. To retain important and/or large files between sessions, use the following lines of code to mount your personal Google drive to this Colab instance:"
      ]
    },
    {
      "cell_type": "code",
      "metadata": {
        "id": "HiWQqnjskqiU",
        "colab_type": "code",
        "colab": {
          "base_uri": "https://localhost:8080/",
          "height": 123
        },
        "outputId": "4ee6adb8-5b7d-4bd6-cd20-d639ef6551ec"
      },
      "source": [
        "try:\n",
        "    # --- Mount gdrive to /content/drive/My Drive/\n",
        "    from google.colab import drive\n",
        "    drive.mount('/content/drive')\n",
        "    \n",
        "except: pass"
      ],
      "execution_count": 2,
      "outputs": [
        {
          "output_type": "stream",
          "text": [
            "Go to this URL in a browser: https://accounts.google.com/o/oauth2/auth?client_id=947318989803-6bn6qk8qdgf4n4g3pfee6491hc0brc4i.apps.googleusercontent.com&redirect_uri=urn%3aietf%3awg%3aoauth%3a2.0%3aoob&response_type=code&scope=email%20https%3a%2f%2fwww.googleapis.com%2fauth%2fdocs.test%20https%3a%2f%2fwww.googleapis.com%2fauth%2fdrive%20https%3a%2f%2fwww.googleapis.com%2fauth%2fdrive.photos.readonly%20https%3a%2f%2fwww.googleapis.com%2fauth%2fpeopleapi.readonly\n",
            "\n",
            "Enter your authorization code:\n",
            "··········\n",
            "Mounted at /content/drive\n"
          ],
          "name": "stdout"
        }
      ]
    },
    {
      "cell_type": "markdown",
      "metadata": {
        "id": "QT4tDblxkqiX",
        "colab_type": "text"
      },
      "source": [
        "Throughout this assignment we will use the following global `MOUNT_ROOT` variable to reference a location to store long-term data. If you are using a local Jupyter server and/or wish to store your data elsewhere, please update this variable now."
      ]
    },
    {
      "cell_type": "code",
      "metadata": {
        "id": "lTQODKAPkqiY",
        "colab_type": "code",
        "colab": {}
      },
      "source": [
        "# --- Set data directory\n",
        "MOUNT_ROOT = '/content/drive/My Drive'"
      ],
      "execution_count": 0,
      "outputs": []
    },
    {
      "cell_type": "markdown",
      "metadata": {
        "id": "GF2edD73kqic",
        "colab_type": "text"
      },
      "source": [
        "### Select Tensorflow library version\n",
        "\n",
        "This assignment will use the (new) Tensorflow 2.0 library. Use the following line of code to select this updated version:"
      ]
    },
    {
      "cell_type": "code",
      "metadata": {
        "id": "V1uVeatUkqic",
        "colab_type": "code",
        "colab": {}
      },
      "source": [
        "# --- Select Tensorflow 2.0 (only in Google Colab)\n",
        "%tensorflow_version 2.x"
      ],
      "execution_count": 0,
      "outputs": []
    },
    {
      "cell_type": "markdown",
      "metadata": {
        "id": "M4niqA2tkqig",
        "colab_type": "text"
      },
      "source": [
        "# Environment\n",
        "\n",
        "Use the following lines to import any needed libraries:"
      ]
    },
    {
      "cell_type": "code",
      "metadata": {
        "id": "E-_KO1gYkqig",
        "colab_type": "code",
        "colab": {}
      },
      "source": [
        "import os, numpy as np\n",
        "from tensorflow import losses, optimizers\n",
        "from tensorflow.keras import Input, Model, models, layers"
      ],
      "execution_count": 0,
      "outputs": []
    },
    {
      "cell_type": "markdown",
      "metadata": {
        "id": "KCOH56o_kqij",
        "colab_type": "text"
      },
      "source": [
        "# Data\n",
        "\n",
        "As in the tutorial, data for this assignment will be simulated via a Python generator:"
      ]
    },
    {
      "cell_type": "code",
      "metadata": {
        "id": "pK5bmKgukqik",
        "colab_type": "code",
        "colab": {}
      },
      "source": [
        "def Generator(batch_size=128):\n",
        "    \"\"\"\n",
        "    Method to define a Python generator for training data\n",
        "    \n",
        "    \"\"\"\n",
        "    # --- Define lambda function for random values [-0.5, +0.5]\n",
        "    lo = -0.5\n",
        "    hi = +0.5\n",
        "    rand = lambda shape : np.random.rand(*shape) * (hi - lo) + lo\n",
        "    \n",
        "    # --- Define lambda function for linear transform\n",
        "    m = np.array([0.2, 0.8, -0.3, 0.4, -0.5]).reshape(5, 1)\n",
        "    b = 0.7\n",
        "    f = lambda x : np.matmul(x, m) + b + rand((x.shape[0], 1))\n",
        "    \n",
        "    while True:\n",
        "        \n",
        "        x = np.random.rand(batch_size, 5)\n",
        "        y = f(x)\n",
        "        \n",
        "        yield x, y"
      ],
      "execution_count": 0,
      "outputs": []
    },
    {
      "cell_type": "markdown",
      "metadata": {
        "id": "JGUuNeXWkqin",
        "colab_type": "text"
      },
      "source": [
        "**Imporant**: do *not* change the code for the above Generator to ensure that your results are consistent."
      ]
    },
    {
      "cell_type": "markdown",
      "metadata": {
        "id": "-plGXKVzkqin",
        "colab_type": "text"
      },
      "source": [
        "# Training\n",
        "\n",
        "In this assignment we will train a multiple (multivariable) linear regression model, extending the single variable linear regression model in the tutorial The provided input to the model will comprise of a five-element vector, and the output will be a single-element numeric prediction.  "
      ]
    },
    {
      "cell_type": "markdown",
      "metadata": {
        "id": "7te3auyMkqio",
        "colab_type": "text"
      },
      "source": [
        "### Define the model"
      ]
    },
    {
      "cell_type": "code",
      "metadata": {
        "id": "GvSOs84Ykqio",
        "colab_type": "code",
        "colab": {}
      },
      "source": [
        "# --- Define model\n",
        "x = Input(shape=(5,))\n",
        "op = layers.Dense(1)\n",
        "y = op(x)\n",
        "model = Model(inputs=x, outputs=y)"
      ],
      "execution_count": 0,
      "outputs": []
    },
    {
      "cell_type": "markdown",
      "metadata": {
        "id": "ZvUuZ7-Tkqir",
        "colab_type": "text"
      },
      "source": [
        "### Compile the model"
      ]
    },
    {
      "cell_type": "code",
      "metadata": {
        "id": "hqmNMq9Ykqis",
        "colab_type": "code",
        "colab": {}
      },
      "source": [
        "# --- Define loss and optimizer\n",
        "loss = losses.MeanSquaredError()\n",
        "optimizer = optimizers.Adam(learning_rate=1e-3)\n",
        "\n",
        "# --- Compile model\n",
        "model.compile(optimizer=optimizer, loss=loss)"
      ],
      "execution_count": 0,
      "outputs": []
    },
    {
      "cell_type": "markdown",
      "metadata": {
        "id": "IOcbm5TCkqiw",
        "colab_type": "text"
      },
      "source": [
        "### Train the model"
      ]
    },
    {
      "cell_type": "code",
      "metadata": {
        "id": "89Vt1Bg_kqix",
        "colab_type": "code",
        "colab": {
          "base_uri": "https://localhost:8080/",
          "height": 602
        },
        "outputId": "97310ebd-39a2-459b-ae72-35bee8e7ff14"
      },
      "source": [
        "gen_train = Generator()\n",
        "model.fit_generator(\n",
        "    generator=gen_train, \n",
        "    steps_per_epoch=500, \n",
        "    epochs=15)"
      ],
      "execution_count": 9,
      "outputs": [
        {
          "output_type": "stream",
          "text": [
            "WARNING:tensorflow:From <ipython-input-9-2600e87dae96>:5: Model.fit_generator (from tensorflow.python.keras.engine.training) is deprecated and will be removed in a future version.\n",
            "Instructions for updating:\n",
            "Please use Model.fit, which supports generators.\n",
            "Epoch 1/15\n",
            "500/500 [==============================] - 1s 3ms/step - loss: 1.1202\n",
            "Epoch 2/15\n",
            "500/500 [==============================] - 1s 3ms/step - loss: 0.4373\n",
            "Epoch 3/15\n",
            "500/500 [==============================] - 1s 3ms/step - loss: 0.3327\n",
            "Epoch 4/15\n",
            "500/500 [==============================] - 1s 3ms/step - loss: 0.2449\n",
            "Epoch 5/15\n",
            "500/500 [==============================] - 1s 3ms/step - loss: 0.1769\n",
            "Epoch 6/15\n",
            "500/500 [==============================] - 1s 3ms/step - loss: 0.1316\n",
            "Epoch 7/15\n",
            "500/500 [==============================] - 1s 3ms/step - loss: 0.1032\n",
            "Epoch 8/15\n",
            "500/500 [==============================] - 1s 3ms/step - loss: 0.0907\n",
            "Epoch 9/15\n",
            "500/500 [==============================] - 1s 3ms/step - loss: 0.0856\n",
            "Epoch 10/15\n",
            "500/500 [==============================] - 1s 3ms/step - loss: 0.0839\n",
            "Epoch 11/15\n",
            "500/500 [==============================] - 1s 3ms/step - loss: 0.0833\n",
            "Epoch 12/15\n",
            "500/500 [==============================] - 1s 3ms/step - loss: 0.0833\n",
            "Epoch 13/15\n",
            "500/500 [==============================] - 1s 3ms/step - loss: 0.0830\n",
            "Epoch 14/15\n",
            "500/500 [==============================] - 1s 3ms/step - loss: 0.0830\n",
            "Epoch 15/15\n",
            "500/500 [==============================] - 1s 3ms/step - loss: 0.0827\n"
          ],
          "name": "stdout"
        },
        {
          "output_type": "execute_result",
          "data": {
            "text/plain": [
              "<tensorflow.python.keras.callbacks.History at 0x7ff867520a58>"
            ]
          },
          "metadata": {
            "tags": []
          },
          "execution_count": 9
        }
      ]
    },
    {
      "cell_type": "markdown",
      "metadata": {
        "id": "h9TGRZPIkqi2",
        "colab_type": "text"
      },
      "source": [
        "# Evaluation\n",
        "\n",
        "Based on the tutorial discussion, use the following cells to check your algorithm performance. Consider loading a saved model and running prediction using `model.predict(...)` on a batch (or several batches) of data. "
      ]
    },
    {
      "cell_type": "code",
      "metadata": {
        "id": "QPa2Nnbmkqi4",
        "colab_type": "code",
        "colab": {
          "base_uri": "https://localhost:8080/",
          "height": 34
        },
        "outputId": "c59e2a48-50e1-4ad0-ff9e-9eb9bb81ed14"
      },
      "source": [
        "eva = Generator()\n",
        "eva_data = next(eva)\n",
        "result = model.predict(eva_data[0])\n",
        "MSE = loss(y_true=eva_data[1], y_pred=result)\n",
        "print (MSE)"
      ],
      "execution_count": 34,
      "outputs": [
        {
          "output_type": "stream",
          "text": [
            "tf.Tensor(0.08470523, shape=(), dtype=float32)\n"
          ],
          "name": "stdout"
        }
      ]
    },
    {
      "cell_type": "markdown",
      "metadata": {
        "id": "jWBizc2bkqi-",
        "colab_type": "text"
      },
      "source": [
        "# Submission\n",
        "\n",
        "Use the following line to save your model for submission (in Google Colab this should save your model file into your personal Google Drive):"
      ]
    },
    {
      "cell_type": "code",
      "metadata": {
        "id": "IDCIiB0mkqi_",
        "colab_type": "code",
        "colab": {}
      },
      "source": [
        "# --- Serialize a model\n",
        "fname = '{}/models/linear/model.hdf5'.format(MOUNT_ROOT)\n",
        "os.makedirs(os.path.dirname(fname), exist_ok=True)\n",
        "model.save(fname)"
      ],
      "execution_count": 0,
      "outputs": []
    },
    {
      "cell_type": "markdown",
      "metadata": {
        "id": "1WMjbbgRkqjE",
        "colab_type": "text"
      },
      "source": [
        "### Canvas\n",
        "\n",
        "Once you have completed this assignment, download the necessary files from Google Colab and your Google Drive. You will then need to submit the following items:\n",
        "\n",
        "* final (completed) notebook: `[UCInetID]_assignment.ipynb`\n",
        "* final (trained) model: `[UCInetID]_model.hdf5`\n",
        "\n",
        "**Important**: please submit all your files prefixed with your UCInetID as listed above. Your UCInetID is the part of your UCI email address that comes before `@uci.edu`. For example, Peter Anteater has an email address of panteater@uci.edu, so his notebooked file would be submitted under the name `panteater_notebook.ipynb` and his model file would be submitted under the name `panteater_model.hdf5`."
      ]
    }
  ]
}